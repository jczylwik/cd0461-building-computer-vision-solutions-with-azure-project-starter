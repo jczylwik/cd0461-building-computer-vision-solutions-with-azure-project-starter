{
 "cells": [
  {
   "cell_type": "code",
   "execution_count": 1,
   "id": "9a6c7340-1f54-46c8-a794-cc4eaf85679d",
   "metadata": {},
   "outputs": [],
   "source": [
    "from azure.identity import DefaultAzureCredential\n",
    "from azure.keyvault.secrets import SecretClient\n",
    "from video_indexer import VideoIndexer\n",
    "from azure.storage.blob import BlobServiceClient"
   ]
  },
  {
   "cell_type": "markdown",
   "id": "7787103a-eca1-42c4-af97-18e1b2494ebd",
   "metadata": {},
   "source": [
    "## Azure authentication\n",
    "Don't forget to `az login` in cmd!"
   ]
  },
  {
   "cell_type": "code",
   "execution_count": 2,
   "id": "16b56c7c-ccd0-4e47-9dd8-6c5727e6743f",
   "metadata": {},
   "outputs": [],
   "source": [
    "keyVaultName = \"cvprojectkeyvault\"\n",
    "KVUri = f\"https://{keyVaultName}.vault.azure.net\"\n",
    "\n",
    "credential = DefaultAzureCredential()\n",
    "client = SecretClient(vault_url=KVUri, credential=credential)"
   ]
  },
  {
   "cell_type": "markdown",
   "id": "34f14870-3ccb-495d-9e32-047a00970310",
   "metadata": {},
   "source": [
    "# Initialize VideoIndexer"
   ]
  },
  {
   "cell_type": "code",
   "execution_count": 3,
   "id": "cb5437c8-14d8-4eb8-9114-857c368b0280",
   "metadata": {},
   "outputs": [],
   "source": [
    "VIDEO_INDEXER_ACCOUNT_ID = client.get_secret(\"videoindexeraccountidtrial\").value\n",
    "VIDEO_INDEXER_SUBSCRIPTION_KEY = client.get_secret(\"videoindexersubscriptionkeytrial\").value"
   ]
  },
  {
   "cell_type": "code",
   "execution_count": 4,
   "id": "699d1c17-589c-439b-903c-745b5fed8c2b",
   "metadata": {},
   "outputs": [],
   "source": [
    "CONFIG = {\n",
    "    'SUBSCRIPTION_KEY': VIDEO_INDEXER_SUBSCRIPTION_KEY,\n",
    "    'LOCATION': 'trial',\n",
    "    'ACCOUNT_ID': VIDEO_INDEXER_ACCOUNT_ID\n",
    "}\n",
    "\n",
    "video_analysis = VideoIndexer(\n",
    "    vi_subscription_key=CONFIG['SUBSCRIPTION_KEY'],\n",
    "    vi_location=CONFIG['LOCATION'],\n",
    "    vi_account_id=CONFIG['ACCOUNT_ID']\n",
    ")"
   ]
  },
  {
   "cell_type": "markdown",
   "id": "d2f6f4ba-0379-4c63-b3ce-99ac2c5bd628",
   "metadata": {},
   "source": [
    "# Get video ID from Blob Storage"
   ]
  },
  {
   "cell_type": "code",
   "execution_count": 5,
   "id": "2e4518d1-484a-4adf-8210-6afcc3bef36c",
   "metadata": {},
   "outputs": [],
   "source": [
    "account_url = \"https://computervisionproject.blob.core.windows.net\"\n",
    "blob_service_client = BlobServiceClient(account_url, credential=credential)\n",
    "container = 'kiosk'\n",
    "blob_path = 'face_video/video_id_johannes.txt'\n",
    "blob_client = blob_service_client.get_blob_client(container = container, blob = blob_path)"
   ]
  },
  {
   "cell_type": "code",
   "execution_count": 6,
   "id": "3d968459-363f-4e2c-9246-5ff1d1006ff8",
   "metadata": {},
   "outputs": [
    {
     "data": {
      "text/plain": [
       "'cd2e260577'"
      ]
     },
     "execution_count": 6,
     "metadata": {},
     "output_type": "execute_result"
    }
   ],
   "source": [
    "downloader = blob_client.download_blob(max_concurrency=1, encoding='UTF-8')\n",
    "video_id = downloader.readall()\n",
    "video_id"
   ]
  },
  {
   "cell_type": "markdown",
   "id": "4d44f03e-1c4f-43df-9d05-3c78f82877b4",
   "metadata": {},
   "source": [
    "# Get video info"
   ]
  },
  {
   "cell_type": "code",
   "execution_count": 9,
   "id": "e7bb2d13-1873-4556-a125-206760a17888",
   "metadata": {},
   "outputs": [
    {
     "name": "stdout",
     "output_type": "stream",
     "text": [
      "Getting video info for: cd2e260577\n"
     ]
    }
   ],
   "source": [
    "info = video_analysis.get_video_info(video_id, video_language='English')"
   ]
  },
  {
   "cell_type": "markdown",
   "id": "efdf786d-7835-412c-b918-f9220ad3c245",
   "metadata": {},
   "source": [
    "# Get sentiment"
   ]
  },
  {
   "cell_type": "code",
   "execution_count": 10,
   "id": "6495530a-068e-4d52-99ba-d5cc4a30f861",
   "metadata": {},
   "outputs": [
    {
     "data": {
      "text/plain": [
       "[]"
      ]
     },
     "execution_count": 10,
     "metadata": {},
     "output_type": "execute_result"
    }
   ],
   "source": [
    "info['summarizedInsights']['sentiments']"
   ]
  },
  {
   "cell_type": "markdown",
   "id": "650673f7-48b6-4ec5-a96f-3069fbfef5f5",
   "metadata": {},
   "source": [
    "# Get Emotion"
   ]
  },
  {
   "cell_type": "code",
   "execution_count": 11,
   "id": "2f3554d7-c9ca-4112-a89d-3996c6e28dce",
   "metadata": {},
   "outputs": [
    {
     "data": {
      "text/plain": [
       "[]"
      ]
     },
     "execution_count": 11,
     "metadata": {},
     "output_type": "execute_result"
    }
   ],
   "source": [
    "info['summarizedInsights']['emotions']"
   ]
  },
  {
   "cell_type": "markdown",
   "id": "114283f2-941b-4cef-a923-da3bf7356875",
   "metadata": {},
   "source": [
    "No sentiment or emotion was detected (same result when checking the AI Video Indexer Portal).  \n",
    "Maybe there is a confidence threshold that was not passed? I just stared into the camera for 30 seconds, so it does make sense that there is no emotion detected."
   ]
  },
  {
   "cell_type": "code",
   "execution_count": null,
   "id": "7b65d0fd-7d82-4833-81c4-0e12b84f2d48",
   "metadata": {},
   "outputs": [],
   "source": []
  }
 ],
 "metadata": {
  "kernelspec": {
   "display_name": "Python 3 (ipykernel)",
   "language": "python",
   "name": "python3"
  },
  "language_info": {
   "codemirror_mode": {
    "name": "ipython",
    "version": 3
   },
   "file_extension": ".py",
   "mimetype": "text/x-python",
   "name": "python",
   "nbconvert_exporter": "python",
   "pygments_lexer": "ipython3",
   "version": "3.12.3"
  }
 },
 "nbformat": 4,
 "nbformat_minor": 5
}
