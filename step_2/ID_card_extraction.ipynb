{
 "cells": [
  {
   "cell_type": "code",
   "execution_count": 25,
   "id": "3f5a57a1-608d-4914-aa38-9c573de4097c",
   "metadata": {},
   "outputs": [],
   "source": [
    "from azure.core.credentials import AzureKeyCredential\n",
    "from azure.ai.formrecognizer import FormRecognizerClient\n",
    "from PIL import Image, ImageDraw\n",
    "from io import BytesIO\n",
    "from azure.keyvault.secrets import SecretClient\n",
    "from azure.identity import DefaultAzureCredential\n",
    "import matplotlib.pyplot as plt\n",
    "import os\n",
    "import pandas as pd\n",
    "from azure.storage.blob import BlobServiceClient, BlobClient, ContainerClient\n",
    "import adlfs"
   ]
  },
  {
   "cell_type": "markdown",
   "id": "433880b2-abd4-48d4-a2b2-def7efd08f44",
   "metadata": {},
   "source": [
    "# Read all ID cards from local files"
   ]
  },
  {
   "cell_type": "code",
   "execution_count": 14,
   "id": "7c04f982-885b-41e4-8592-37d486a03f52",
   "metadata": {},
   "outputs": [
    {
     "name": "stdout",
     "output_type": "stream",
     "text": [
      "ca-dl-avkash.png\n",
      "ca-dl-james-jackson.png\n",
      "ca-dl-james-webb.png\n",
      "ca-dl-johannes_czylwik.png\n",
      "ca-dl-libby-herold.png\n",
      "ca-dl-radha-s-kumar.png\n",
      "ca-dl-sameer-kumar.png\n"
     ]
    }
   ],
   "source": [
    "id_dir = \"../material_preparation_step/IDs/\"\n",
    "id_imgs = []\n",
    "for filename in os.listdir(id_dir):\n",
    "    print(filename)\n",
    "    id_imgs.append(open(id_dir+filename, \"rb\"))\n",
    "\n",
    "#open(\"../material_preparation_step/ca-dl-johannes_czylwik.png\", \"rb\")"
   ]
  },
  {
   "cell_type": "markdown",
   "id": "40111c30-159b-4e89-bee4-dc82d478791c",
   "metadata": {},
   "source": [
    "# Receive details using Auzure Form Recognizer"
   ]
  },
  {
   "cell_type": "markdown",
   "id": "04774edf-8bf4-4316-9bc9-006dade08e04",
   "metadata": {},
   "source": [
    "## Azure authentication\n",
    "Don't forget to `az login` in cmd!"
   ]
  },
  {
   "cell_type": "code",
   "execution_count": 15,
   "id": "21182816-7ee4-4c8a-9b21-8583dc5531ab",
   "metadata": {},
   "outputs": [],
   "source": [
    "keyVaultName = \"cvprojectkeyvault\"\n",
    "KVUri = f\"https://{keyVaultName}.vault.azure.net\"\n",
    "\n",
    "credential = DefaultAzureCredential()\n",
    "client = SecretClient(vault_url=KVUri, credential=credential)"
   ]
  },
  {
   "cell_type": "code",
   "execution_count": 16,
   "id": "d35f0b12-2a4d-48f8-bf9f-911ba94502e2",
   "metadata": {},
   "outputs": [],
   "source": [
    "AZURE_FORM_RECOGNIZER_ENDPOINT = \"https://cvprojectformrecognizer.cognitiveservices.azure.com/\"\n",
    "secretName = \"formrecognizerkey1\"\n",
    "retrieved_secret = client.get_secret(secretName)\n",
    "\n",
    "endpoint = AZURE_FORM_RECOGNIZER_ENDPOINT\n",
    "key = retrieved_secret.value\n",
    "form_recognizer_client = FormRecognizerClient(endpoint=endpoint, credential=AzureKeyCredential(key))"
   ]
  },
  {
   "cell_type": "markdown",
   "id": "77ecdb37-5fa9-4b72-87e9-1dd0d28deda4",
   "metadata": {},
   "source": [
    "## Call Form Recognizer to receive ID details"
   ]
  },
  {
   "cell_type": "code",
   "execution_count": 17,
   "id": "fb3391f0-c15d-4361-9033-a3b8e736487e",
   "metadata": {},
   "outputs": [],
   "source": [
    "def get_id_card_details(identity_card):\n",
    "    result = {}\n",
    "    first_name = identity_card.fields.get(\"FirstName\")\n",
    "    if first_name:\n",
    "        print(\"First Name: {} has confidence: {}\".format(first_name.value, first_name.confidence))\n",
    "        result['first_name'] = first_name.value\n",
    "    last_name = identity_card.fields.get(\"LastName\")\n",
    "    if last_name:\n",
    "        print(\"Last Name: {} has confidence: {}\".format(last_name.value, last_name.confidence))\n",
    "        result['last_name'] = last_name.value\n",
    "    document_number = identity_card.fields.get(\"DocumentNumber\")\n",
    "    if document_number:\n",
    "        print(\"Document Number: {} has confidence: {}\".format(document_number.value, document_number.confidence))\n",
    "        result['document_number'] = document_number.value\n",
    "    dob = identity_card.fields.get(\"DateOfBirth\")\n",
    "    if dob:\n",
    "        print(\"Date of Birth: {} has confidence: {}\".format(dob.value, dob.confidence))\n",
    "        result['dob'] = dob.value\n",
    "    doe = identity_card.fields.get(\"DateOfExpiration\")\n",
    "    if doe:\n",
    "        print(\"Date of Expiration: {} has confidence: {}\".format(doe.value, doe.confidence))\n",
    "        result['doe'] = doe.value\n",
    "    sex = identity_card.fields.get(\"Sex\")\n",
    "    if sex:\n",
    "        print(\"Sex: {} has confidence: {}\".format(sex.value, sex.confidence))\n",
    "        result['sex'] = sex.value\n",
    "    address = identity_card.fields.get(\"Address\")\n",
    "    if address:\n",
    "        print(\"Address: {} has confidence: {}\".format(address.value, address.confidence))\n",
    "        result['address'] = address.value\n",
    "    country_region = identity_card.fields.get(\"CountryRegion\")\n",
    "    if country_region:\n",
    "        print(\"Country/Region: {} has confidence: {}\".format(country_region.value, country_region.confidence))\n",
    "        result['country_region'] = country_region.value\n",
    "    region = identity_card.fields.get(\"Region\")\n",
    "    if region:\n",
    "        print(\"Region: {} has confidence: {}\".format(region.value, region.confidence))\n",
    "        result['region'] = region.value\n",
    "    return result"
   ]
  },
  {
   "cell_type": "code",
   "execution_count": 18,
   "id": "5bd67f31-e7e4-48ad-a177-29d7885a59d1",
   "metadata": {},
   "outputs": [
    {
     "name": "stdout",
     "output_type": "stream",
     "text": [
      "<_io.BufferedReader name='../material_preparation_step/IDs/ca-dl-avkash.png'>\n",
      "First Name: AVKASH CHAUHAN has confidence: 0.824\n",
      "Last Name: CHAUHAN has confidence: 0.908\n",
      "Document Number: D1234578 has confidence: 0.995\n",
      "Date of Birth: 1990-01-01 has confidence: 0.995\n",
      "Date of Expiration: 2025-01-01 has confidence: 0.99\n",
      "Sex: M has confidence: 0.985\n",
      "Address: 1234 Circle Ave, Apt 123 San Mateo, CA, 94401 has confidence: 0.617\n",
      "Country/Region: USA has confidence: 0.99\n",
      "Region: California has confidence: 0.973\n",
      "<_io.BufferedReader name='../material_preparation_step/IDs/ca-dl-james-jackson.png'>\n",
      "First Name: James has confidence: 0.822\n",
      "Last Name: Jackson has confidence: 0.843\n",
      "Document Number: D9753933 has confidence: 0.995\n",
      "Date of Birth: 1956-10-12 has confidence: 0.995\n",
      "Date of Expiration: 2027-02-20 has confidence: 0.993\n",
      "Sex: M has confidence: 0.984\n",
      "Country/Region: USA has confidence: 0.99\n",
      "Region: California has confidence: 0.99\n",
      "<_io.BufferedReader name='../material_preparation_step/IDs/ca-dl-james-webb.png'>\n",
      "First Name: James has confidence: 0.408\n",
      "Last Name: Webb has confidence: 0.69\n",
      "Document Number: D4357789 has confidence: 0.995\n",
      "Date of Birth: 1970-12-15 has confidence: 0.995\n",
      "Date of Expiration: 2026-01-10 has confidence: 0.995\n",
      "Sex: M has confidence: 0.993\n",
      "Country/Region: USA has confidence: 0.99\n",
      "Region: California has confidence: 0.99\n",
      "<_io.BufferedReader name='../material_preparation_step/IDs/ca-dl-johannes_czylwik.png'>\n",
      "First Name: Johannes has confidence: 0.555\n",
      "Last Name: Czylwik has confidence: 0.794\n",
      "Document Number: D1234567 has confidence: 0.995\n",
      "Date of Birth: 1989-09-05 has confidence: 0.995\n",
      "Date of Expiration: 2027-02-26 has confidence: 0.995\n",
      "Sex: M has confidence: 0.184\n",
      "Country/Region: USA has confidence: 0.99\n",
      "Region: California has confidence: 0.99\n",
      "<_io.BufferedReader name='../material_preparation_step/IDs/ca-dl-libby-herold.png'>\n",
      "First Name: Libby has confidence: 0.886\n",
      "Last Name: Herold has confidence: 0.897\n",
      "Document Number: D7976131 has confidence: 0.995\n",
      "Date of Birth: 1996-02-10 has confidence: 0.995\n",
      "Date of Expiration: 2028-09-12 has confidence: 0.99\n",
      "Sex: F has confidence: 0.989\n",
      "Country/Region: USA has confidence: 0.99\n",
      "Region: California has confidence: 0.99\n",
      "<_io.BufferedReader name='../material_preparation_step/IDs/ca-dl-radha-s-kumar.png'>\n",
      "First Name: Radha has confidence: 0.821\n",
      "Last Name: SKumar has confidence: 0.906\n",
      "Document Number: D5567470 has confidence: 0.995\n",
      "Date of Birth: 1994-03-05 has confidence: 0.995\n",
      "Date of Expiration: 2027-02-20 has confidence: 0.99\n",
      "Sex: F has confidence: 0.984\n",
      "Country/Region: USA has confidence: 0.99\n",
      "Region: California has confidence: 0.99\n",
      "<_io.BufferedReader name='../material_preparation_step/IDs/ca-dl-sameer-kumar.png'>\n",
      "First Name: Sameer has confidence: 0.769\n",
      "Last Name: Kumar has confidence: 0.853\n",
      "Document Number: D4556673 has confidence: 0.995\n",
      "Date of Birth: 1990-01-25 has confidence: 0.995\n",
      "Date of Expiration: 2025-08-28 has confidence: 0.995\n",
      "Sex: M has confidence: 0.91\n",
      "Country/Region: USA has confidence: 0.99\n",
      "Region: California has confidence: 0.99\n"
     ]
    }
   ],
   "source": [
    "id_details = []\n",
    "\n",
    "for img in id_imgs:\n",
    "    print(img)\n",
    "    id_content_from_file = form_recognizer_client.begin_recognize_identity_documents(img, content_type=\"image/png\")\n",
    "    collected_id_cards = id_content_from_file.result()\n",
    "    id_details.append(get_id_card_details(collected_id_cards[0]))"
   ]
  },
  {
   "cell_type": "markdown",
   "id": "4741429e-d6dc-411d-9c99-43382b8e8750",
   "metadata": {},
   "source": [
    "# Store results in a Parquet file\n",
    "in Azure Blob Storage"
   ]
  },
  {
   "cell_type": "code",
   "execution_count": 19,
   "id": "6cc88552-7abc-4774-b758-8b1bc4097f8a",
   "metadata": {},
   "outputs": [
    {
     "data": {
      "text/plain": [
       "[{'first_name': 'AVKASH CHAUHAN',\n",
       "  'last_name': 'CHAUHAN',\n",
       "  'document_number': 'D1234578',\n",
       "  'dob': datetime.date(1990, 1, 1),\n",
       "  'doe': datetime.date(2025, 1, 1),\n",
       "  'sex': 'M',\n",
       "  'address': '1234 Circle Ave, Apt 123 San Mateo, CA, 94401',\n",
       "  'country_region': 'USA',\n",
       "  'region': 'California'},\n",
       " {'first_name': 'James',\n",
       "  'last_name': 'Jackson',\n",
       "  'document_number': 'D9753933',\n",
       "  'dob': datetime.date(1956, 10, 12),\n",
       "  'doe': datetime.date(2027, 2, 20),\n",
       "  'sex': 'M',\n",
       "  'country_region': 'USA',\n",
       "  'region': 'California'},\n",
       " {'first_name': 'James',\n",
       "  'last_name': 'Webb',\n",
       "  'document_number': 'D4357789',\n",
       "  'dob': datetime.date(1970, 12, 15),\n",
       "  'doe': datetime.date(2026, 1, 10),\n",
       "  'sex': 'M',\n",
       "  'country_region': 'USA',\n",
       "  'region': 'California'},\n",
       " {'first_name': 'Johannes',\n",
       "  'last_name': 'Czylwik',\n",
       "  'document_number': 'D1234567',\n",
       "  'dob': datetime.date(1989, 9, 5),\n",
       "  'doe': datetime.date(2027, 2, 26),\n",
       "  'sex': 'M',\n",
       "  'country_region': 'USA',\n",
       "  'region': 'California'},\n",
       " {'first_name': 'Libby',\n",
       "  'last_name': 'Herold',\n",
       "  'document_number': 'D7976131',\n",
       "  'dob': datetime.date(1996, 2, 10),\n",
       "  'doe': datetime.date(2028, 9, 12),\n",
       "  'sex': 'F',\n",
       "  'country_region': 'USA',\n",
       "  'region': 'California'},\n",
       " {'first_name': 'Radha',\n",
       "  'last_name': 'SKumar',\n",
       "  'document_number': 'D5567470',\n",
       "  'dob': datetime.date(1994, 3, 5),\n",
       "  'doe': datetime.date(2027, 2, 20),\n",
       "  'sex': 'F',\n",
       "  'country_region': 'USA',\n",
       "  'region': 'California'},\n",
       " {'first_name': 'Sameer',\n",
       "  'last_name': 'Kumar',\n",
       "  'document_number': 'D4556673',\n",
       "  'dob': datetime.date(1990, 1, 25),\n",
       "  'doe': datetime.date(2025, 8, 28),\n",
       "  'sex': 'M',\n",
       "  'country_region': 'USA',\n",
       "  'region': 'California'}]"
      ]
     },
     "execution_count": 19,
     "metadata": {},
     "output_type": "execute_result"
    }
   ],
   "source": [
    "id_details"
   ]
  },
  {
   "cell_type": "code",
   "execution_count": 21,
   "id": "ce86fda5-a912-4bbb-b488-901c3c49d83d",
   "metadata": {},
   "outputs": [
    {
     "data": {
      "text/html": [
       "<div>\n",
       "<style scoped>\n",
       "    .dataframe tbody tr th:only-of-type {\n",
       "        vertical-align: middle;\n",
       "    }\n",
       "\n",
       "    .dataframe tbody tr th {\n",
       "        vertical-align: top;\n",
       "    }\n",
       "\n",
       "    .dataframe thead th {\n",
       "        text-align: right;\n",
       "    }\n",
       "</style>\n",
       "<table border=\"1\" class=\"dataframe\">\n",
       "  <thead>\n",
       "    <tr style=\"text-align: right;\">\n",
       "      <th></th>\n",
       "      <th>first_name</th>\n",
       "      <th>last_name</th>\n",
       "      <th>document_number</th>\n",
       "      <th>dob</th>\n",
       "      <th>doe</th>\n",
       "      <th>sex</th>\n",
       "      <th>address</th>\n",
       "      <th>country_region</th>\n",
       "      <th>region</th>\n",
       "    </tr>\n",
       "  </thead>\n",
       "  <tbody>\n",
       "    <tr>\n",
       "      <th>0</th>\n",
       "      <td>AVKASH CHAUHAN</td>\n",
       "      <td>CHAUHAN</td>\n",
       "      <td>D1234578</td>\n",
       "      <td>1990-01-01</td>\n",
       "      <td>2025-01-01</td>\n",
       "      <td>M</td>\n",
       "      <td>1234 Circle Ave, Apt 123 San Mateo, CA, 94401</td>\n",
       "      <td>USA</td>\n",
       "      <td>California</td>\n",
       "    </tr>\n",
       "    <tr>\n",
       "      <th>1</th>\n",
       "      <td>James</td>\n",
       "      <td>Jackson</td>\n",
       "      <td>D9753933</td>\n",
       "      <td>1956-10-12</td>\n",
       "      <td>2027-02-20</td>\n",
       "      <td>M</td>\n",
       "      <td>NaN</td>\n",
       "      <td>USA</td>\n",
       "      <td>California</td>\n",
       "    </tr>\n",
       "    <tr>\n",
       "      <th>2</th>\n",
       "      <td>James</td>\n",
       "      <td>Webb</td>\n",
       "      <td>D4357789</td>\n",
       "      <td>1970-12-15</td>\n",
       "      <td>2026-01-10</td>\n",
       "      <td>M</td>\n",
       "      <td>NaN</td>\n",
       "      <td>USA</td>\n",
       "      <td>California</td>\n",
       "    </tr>\n",
       "    <tr>\n",
       "      <th>3</th>\n",
       "      <td>Johannes</td>\n",
       "      <td>Czylwik</td>\n",
       "      <td>D1234567</td>\n",
       "      <td>1989-09-05</td>\n",
       "      <td>2027-02-26</td>\n",
       "      <td>M</td>\n",
       "      <td>NaN</td>\n",
       "      <td>USA</td>\n",
       "      <td>California</td>\n",
       "    </tr>\n",
       "    <tr>\n",
       "      <th>4</th>\n",
       "      <td>Libby</td>\n",
       "      <td>Herold</td>\n",
       "      <td>D7976131</td>\n",
       "      <td>1996-02-10</td>\n",
       "      <td>2028-09-12</td>\n",
       "      <td>F</td>\n",
       "      <td>NaN</td>\n",
       "      <td>USA</td>\n",
       "      <td>California</td>\n",
       "    </tr>\n",
       "    <tr>\n",
       "      <th>5</th>\n",
       "      <td>Radha</td>\n",
       "      <td>SKumar</td>\n",
       "      <td>D5567470</td>\n",
       "      <td>1994-03-05</td>\n",
       "      <td>2027-02-20</td>\n",
       "      <td>F</td>\n",
       "      <td>NaN</td>\n",
       "      <td>USA</td>\n",
       "      <td>California</td>\n",
       "    </tr>\n",
       "    <tr>\n",
       "      <th>6</th>\n",
       "      <td>Sameer</td>\n",
       "      <td>Kumar</td>\n",
       "      <td>D4556673</td>\n",
       "      <td>1990-01-25</td>\n",
       "      <td>2025-08-28</td>\n",
       "      <td>M</td>\n",
       "      <td>NaN</td>\n",
       "      <td>USA</td>\n",
       "      <td>California</td>\n",
       "    </tr>\n",
       "  </tbody>\n",
       "</table>\n",
       "</div>"
      ],
      "text/plain": [
       "       first_name last_name document_number         dob         doe sex  \\\n",
       "0  AVKASH CHAUHAN   CHAUHAN        D1234578  1990-01-01  2025-01-01   M   \n",
       "1           James   Jackson        D9753933  1956-10-12  2027-02-20   M   \n",
       "2           James      Webb        D4357789  1970-12-15  2026-01-10   M   \n",
       "3        Johannes   Czylwik        D1234567  1989-09-05  2027-02-26   M   \n",
       "4           Libby    Herold        D7976131  1996-02-10  2028-09-12   F   \n",
       "5           Radha    SKumar        D5567470  1994-03-05  2027-02-20   F   \n",
       "6          Sameer     Kumar        D4556673  1990-01-25  2025-08-28   M   \n",
       "\n",
       "                                         address country_region      region  \n",
       "0  1234 Circle Ave, Apt 123 San Mateo, CA, 94401            USA  California  \n",
       "1                                            NaN            USA  California  \n",
       "2                                            NaN            USA  California  \n",
       "3                                            NaN            USA  California  \n",
       "4                                            NaN            USA  California  \n",
       "5                                            NaN            USA  California  \n",
       "6                                            NaN            USA  California  "
      ]
     },
     "execution_count": 21,
     "metadata": {},
     "output_type": "execute_result"
    }
   ],
   "source": [
    "df_id_details = pd.DataFrame(id_details)\n",
    "df_id_details"
   ]
  },
  {
   "cell_type": "code",
   "execution_count": 47,
   "id": "779e63bf-e02b-47d3-bd7a-f878cbbfa8dc",
   "metadata": {},
   "outputs": [],
   "source": [
    "account_url = \"https://computervisionproject.blob.core.windows.net\"\n",
    "default_credential = DefaultAzureCredential()\n",
    "\n",
    "# Create the BlobServiceClient object\n",
    "blob_service_client = BlobServiceClient(account_url, credential=default_credential)"
   ]
  },
  {
   "cell_type": "code",
   "execution_count": 48,
   "id": "a39267fd-36f9-4f88-a4ca-e23fb426e082",
   "metadata": {},
   "outputs": [
    {
     "data": {
      "text/plain": [
       "0"
      ]
     },
     "execution_count": 48,
     "metadata": {},
     "output_type": "execute_result"
    }
   ],
   "source": [
    "parquet_file = BytesIO()\n",
    "df_id_details.to_parquet(parquet_file, engine = 'pyarrow')\n",
    "parquet_file.seek(0)"
   ]
  },
  {
   "cell_type": "code",
   "execution_count": 49,
   "id": "dd50499c-3362-47ab-9952-e792bdfa0cad",
   "metadata": {},
   "outputs": [],
   "source": [
    "container = 'kiosk'\n",
    "blob_path = 'extracted_id_details/id_details.parquet'\n",
    "blob_client = blob_service_client.get_blob_client(container = container, blob = blob_path)"
   ]
  },
  {
   "cell_type": "code",
   "execution_count": 50,
   "id": "afdb0f4b-9403-432a-a6b2-18c55733ec00",
   "metadata": {},
   "outputs": [
    {
     "data": {
      "text/plain": [
       "{'etag': '\"0x8DC7B28FF6125A0\"',\n",
       " 'last_modified': datetime.datetime(2024, 5, 23, 13, 5, 19, tzinfo=datetime.timezone.utc),\n",
       " 'content_md5': bytearray(b'\\xa8G\\xe6J\\x1eXj\\x8e\\x01Q\\xf7\\x8e\\x91\\x9b\\xaa\\xa9'),\n",
       " 'client_request_id': '1a556135-1905-11ef-b3df-8cf8c5f0a202',\n",
       " 'request_id': 'a15facc9-301e-004a-6911-adc644000000',\n",
       " 'version': '2024-05-04',\n",
       " 'version_id': None,\n",
       " 'date': datetime.datetime(2024, 5, 23, 13, 5, 18, tzinfo=datetime.timezone.utc),\n",
       " 'request_server_encrypted': True,\n",
       " 'encryption_key_sha256': None,\n",
       " 'encryption_scope': None}"
      ]
     },
     "execution_count": 50,
     "metadata": {},
     "output_type": "execute_result"
    }
   ],
   "source": [
    "blob_client.upload_blob(data = parquet_file)"
   ]
  },
  {
   "cell_type": "code",
   "execution_count": null,
   "id": "795f48da-c8cc-4801-9f86-25fb0b08d7c1",
   "metadata": {},
   "outputs": [],
   "source": []
  }
 ],
 "metadata": {
  "kernelspec": {
   "display_name": "Python 3 (ipykernel)",
   "language": "python",
   "name": "python3"
  },
  "language_info": {
   "codemirror_mode": {
    "name": "ipython",
    "version": 3
   },
   "file_extension": ".py",
   "mimetype": "text/x-python",
   "name": "python",
   "nbconvert_exporter": "python",
   "pygments_lexer": "ipython3",
   "version": "3.12.3"
  }
 },
 "nbformat": 4,
 "nbformat_minor": 5
}
