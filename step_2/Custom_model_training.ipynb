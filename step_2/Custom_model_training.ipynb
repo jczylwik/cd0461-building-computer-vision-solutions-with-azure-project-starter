{
 "cells": [
  {
   "cell_type": "code",
   "execution_count": 17,
   "id": "4e77b9d8-a905-4f6a-aa09-c1553138cef7",
   "metadata": {},
   "outputs": [],
   "source": [
    "import os\n",
    "from azure.core.exceptions import ResourceNotFoundError\n",
    "from azure.ai.formrecognizer import FormRecognizerClient\n",
    "from azure.ai.formrecognizer import FormTrainingClient\n",
    "from azure.core.credentials import AzureKeyCredential\n",
    "from azure.keyvault.secrets import SecretClient\n",
    "from azure.identity import DefaultAzureCredential"
   ]
  },
  {
   "cell_type": "markdown",
   "id": "84d5f34d-aa80-4455-b10a-93e2821deb19",
   "metadata": {},
   "source": [
    "## Azure authentication\n",
    "Don't forget to `az login` in cmd!"
   ]
  },
  {
   "cell_type": "code",
   "execution_count": 18,
   "id": "fdd52376-8eac-4649-9f63-877b1cc69d15",
   "metadata": {},
   "outputs": [],
   "source": [
    "keyVaultName = \"cvprojectkeyvault\"\n",
    "KVUri = f\"https://{keyVaultName}.vault.azure.net\"\n",
    "\n",
    "credential = DefaultAzureCredential()\n",
    "client = SecretClient(vault_url=KVUri, credential=credential)"
   ]
  },
  {
   "cell_type": "code",
   "execution_count": 19,
   "id": "2845a185-37d2-42e4-96c9-ff766bc581af",
   "metadata": {},
   "outputs": [],
   "source": [
    "AZURE_FORM_RECOGNIZER_ENDPOINT = \"https://cvprojectformrecognizer.cognitiveservices.azure.com/\"\n",
    "secretName = \"formrecognizerkey1\"\n",
    "retrieved_secret = client.get_secret(secretName)\n",
    "\n",
    "endpoint = AZURE_FORM_RECOGNIZER_ENDPOINT\n",
    "key = retrieved_secret.value\n",
    "form_training_client = FormTrainingClient(endpoint=endpoint, credential=AzureKeyCredential(key))"
   ]
  },
  {
   "cell_type": "code",
   "execution_count": 20,
   "id": "f4051afa-0b97-49ce-ae27-75e30df8d48b",
   "metadata": {},
   "outputs": [
    {
     "name": "stdout",
     "output_type": "stream",
     "text": [
      "<iterator object azure.core.paging.ItemPaged at 0x1e8f3f3a350>\n"
     ]
    }
   ],
   "source": [
    "saved_model_list = form_training_client.list_custom_models()\n",
    "print(saved_model_list)"
   ]
  },
  {
   "cell_type": "markdown",
   "id": "2b55b718-06ae-4582-915d-88db2c31a3be",
   "metadata": {},
   "source": [
    "## Training data URL"
   ]
  },
  {
   "cell_type": "code",
   "execution_count": 21,
   "id": "637425c3-a886-496e-ab1d-e4e7251e784b",
   "metadata": {},
   "outputs": [],
   "source": [
    "trainingDataUrl = client.get_secret(\"blobstoragetrainingdataurl\").value\n",
    "#print(trainingDataUrl)"
   ]
  },
  {
   "cell_type": "markdown",
   "id": "f1c42ce0-2786-4502-8689-d841d9fa08dc",
   "metadata": {},
   "source": [
    "## Labeled training"
   ]
  },
  {
   "cell_type": "code",
   "execution_count": 22,
   "id": "13cba152-7bf6-4d0b-9a32-e8bf94b32da7",
   "metadata": {},
   "outputs": [],
   "source": [
    "labeled_training_process = form_training_client.begin_training(trainingDataUrl, use_training_labels=True)\n",
    "labeled_custom_model = labeled_training_process.result()"
   ]
  },
  {
   "cell_type": "code",
   "execution_count": 23,
   "id": "872d7f11-9268-4fbb-a723-349ed0be2991",
   "metadata": {},
   "outputs": [
    {
     "data": {
      "text/plain": [
       "'08bc6a71-bf06-45c6-9a0d-f662f9ad44d5'"
      ]
     },
     "execution_count": 23,
     "metadata": {},
     "output_type": "execute_result"
    }
   ],
   "source": [
    "labeled_custom_model.model_id"
   ]
  },
  {
   "cell_type": "code",
   "execution_count": 24,
   "id": "53513869-b8e7-4840-90f2-337df412aa7c",
   "metadata": {},
   "outputs": [
    {
     "data": {
      "text/plain": [
       "'ready'"
      ]
     },
     "execution_count": 24,
     "metadata": {},
     "output_type": "execute_result"
    }
   ],
   "source": [
    "labeled_custom_model.status"
   ]
  },
  {
   "cell_type": "code",
   "execution_count": 25,
   "id": "d7b03e8b-d004-4eac-9c02-2c3f087652b5",
   "metadata": {},
   "outputs": [
    {
     "data": {
      "text/plain": [
       "[TrainingDocumentInfo(name=boarding_pass_1.pdf, status=succeeded, page_count=1, errors=[], model_id=None),\n",
       " TrainingDocumentInfo(name=boarding_pass_10.pdf, status=succeeded, page_count=1, errors=[], model_id=None),\n",
       " TrainingDocumentInfo(name=boarding_pass_2.pdf, status=succeeded, page_count=1, errors=[], model_id=None),\n",
       " TrainingDocumentInfo(name=boarding_pass_3.pdf, status=succeeded, page_count=1, errors=[], model_id=None),\n",
       " TrainingDocumentInfo(name=boarding_pass_4.pdf, status=succeeded, page_count=1, errors=[], model_id=None),\n",
       " TrainingDocumentInfo(name=boarding_pass_5.pdf, status=succeeded, page_count=1, errors=[], model_id=None),\n",
       " TrainingDocumentInfo(name=boarding_pass_6.pdf, status=succeeded, page_count=1, errors=[], model_id=None)]"
      ]
     },
     "execution_count": 25,
     "metadata": {},
     "output_type": "execute_result"
    }
   ],
   "source": [
    "labeled_custom_model.training_documents"
   ]
  },
  {
   "cell_type": "code",
   "execution_count": 26,
   "id": "d294ddd7-e72b-4768-8092-39f46c973ab3",
   "metadata": {},
   "outputs": [
    {
     "name": "stdout",
     "output_type": "stream",
     "text": [
      "Document name: boarding_pass_1.pdf\n",
      "Document status: succeeded\n",
      "Document page count: 1\n",
      "Document errors: []\n",
      "Document name: boarding_pass_10.pdf\n",
      "Document status: succeeded\n",
      "Document page count: 1\n",
      "Document errors: []\n",
      "Document name: boarding_pass_2.pdf\n",
      "Document status: succeeded\n",
      "Document page count: 1\n",
      "Document errors: []\n",
      "Document name: boarding_pass_3.pdf\n",
      "Document status: succeeded\n",
      "Document page count: 1\n",
      "Document errors: []\n",
      "Document name: boarding_pass_4.pdf\n",
      "Document status: succeeded\n",
      "Document page count: 1\n",
      "Document errors: []\n",
      "Document name: boarding_pass_5.pdf\n",
      "Document status: succeeded\n",
      "Document page count: 1\n",
      "Document errors: []\n",
      "Document name: boarding_pass_6.pdf\n",
      "Document status: succeeded\n",
      "Document page count: 1\n",
      "Document errors: []\n"
     ]
    }
   ],
   "source": [
    "for doc in labeled_custom_model.training_documents:\n",
    "    print(\"Document name: {}\".format(doc.name))\n",
    "    print(\"Document status: {}\".format(doc.status))\n",
    "    print(\"Document page count: {}\".format(doc.page_count))\n",
    "    print(\"Document errors: {}\".format(doc.errors))"
   ]
  },
  {
   "cell_type": "markdown",
   "id": "9c098938-ea2b-451d-8e5f-574e0d9fec99",
   "metadata": {},
   "source": [
    "## Model Testing"
   ]
  },
  {
   "cell_type": "code",
   "execution_count": 38,
   "id": "a0a26197-e5f4-49cd-baa2-790d8534eac5",
   "metadata": {},
   "outputs": [],
   "source": [
    "test_file = open(\"../material_preparation_step/BoardingPasses/boarding_pass_johannes.pdf\", \"rb\")"
   ]
  },
  {
   "cell_type": "code",
   "execution_count": 39,
   "id": "a5374443-79f6-479a-a27c-34cf3af56896",
   "metadata": {},
   "outputs": [],
   "source": [
    "labeled_custom_test_action = form_recognizer_client.begin_recognize_custom_forms(model_id=labeled_custom_model.model_id, form=test_file)"
   ]
  },
  {
   "cell_type": "code",
   "execution_count": 41,
   "id": "0fcd339e-fa76-472a-8f65-668663083be1",
   "metadata": {},
   "outputs": [
    {
     "data": {
      "text/plain": [
       "'succeeded'"
      ]
     },
     "execution_count": 41,
     "metadata": {},
     "output_type": "execute_result"
    }
   ],
   "source": [
    "labeled_custom_test_action.status()"
   ]
  },
  {
   "cell_type": "code",
   "execution_count": 42,
   "id": "576054ce-5500-475f-9ba3-74b98d7706a9",
   "metadata": {},
   "outputs": [],
   "source": [
    "labeled_custom_test_action_result = labeled_custom_test_action.result()"
   ]
  },
  {
   "cell_type": "code",
   "execution_count": 43,
   "id": "5829f27e-92b6-43d6-92c0-b85942198dc0",
   "metadata": {},
   "outputs": [
    {
     "name": "stdout",
     "output_type": "stream",
     "text": [
      "Form type: custom:08bc6a71-bf06-45c6-9a0d-f662f9ad44d5\n",
      "Field 'From 2' has label 'From 2' with value 'San Francisco' and a confidence score of 0.993\n",
      "Field 'Seat 2' has label 'Seat 2' with value '16F' and a confidence score of 0.994\n",
      "Field 'Gate 2' has label 'Gate 2' with value 'G1' and a confidence score of 0.995\n",
      "Field 'Date 2' has label 'Date 2' with value 'April 20, 2022' and a confidence score of 0.99\n",
      "Field 'From' has label 'From' with value 'San Francisco' and a confidence score of 0.993\n",
      "Field 'To 2' has label 'To 2' with value 'Chicago' and a confidence score of 0.994\n",
      "Field 'Passenger Name 2' has label 'Passenger Name 2' with value 'Johannes Czylwik' and a confidence score of 0.994\n",
      "Field 'Baggage' has label 'Baggage' with value 'NO' and a confidence score of 0.995\n",
      "Field 'Passenger Name' has label 'Passenger Name' with value 'Johannes Czylwik' and a confidence score of 0.994\n",
      "Field 'Gate' has label 'Gate' with value 'G1' and a confidence score of 0.995\n",
      "Field 'Date' has label 'Date' with value 'April 20, 2022' and a confidence score of 0.992\n",
      "Field 'Boarding Time' has label 'Boarding Time' with value '10:00 AM PST' and a confidence score of 0.944\n",
      "Field 'Carrier' has label 'Carrier' with value 'UA' and a confidence score of 0.994\n",
      "Field 'Flight No.' has label 'Flight No.' with value '234' and a confidence score of 0.995\n",
      "Field 'To' has label 'To' with value 'Chicago' and a confidence score of 0.994\n",
      "Field 'Seat' has label 'Seat' with value '16F' and a confidence score of 0.995\n",
      "Field 'Ticket No.' has label 'Ticket No.' with value 'ETK-737268572620C' and a confidence score of 0.995\n",
      "Field 'Class' has label 'Class' with value 'E' and a confidence score of 0.995\n",
      "Field 'Boarding Time 2' has label 'Boarding Time 2' with value '10:00 AM PST' and a confidence score of 0.993\n"
     ]
    }
   ],
   "source": [
    "for recognized_content in labeled_custom_test_action_result:\n",
    "    print(\"Form type: {}\".format(recognized_content.form_type))\n",
    "    for name, field in recognized_content.fields.items():\n",
    "        print(\"Field '{}' has label '{}' with value '{}' and a confidence score of {}\".format(\n",
    "            name,\n",
    "            field.label_data.text if field.label_data else name,\n",
    "            field.value,\n",
    "            field.confidence\n",
    "        ))"
   ]
  },
  {
   "cell_type": "code",
   "execution_count": null,
   "id": "e8a6bbc4-bed6-4dce-8548-daf6a80d99b9",
   "metadata": {},
   "outputs": [],
   "source": []
  }
 ],
 "metadata": {
  "kernelspec": {
   "display_name": "Python 3 (ipykernel)",
   "language": "python",
   "name": "python3"
  },
  "language_info": {
   "codemirror_mode": {
    "name": "ipython",
    "version": 3
   },
   "file_extension": ".py",
   "mimetype": "text/x-python",
   "name": "python",
   "nbconvert_exporter": "python",
   "pygments_lexer": "ipython3",
   "version": "3.11.8"
  }
 },
 "nbformat": 4,
 "nbformat_minor": 5
}
