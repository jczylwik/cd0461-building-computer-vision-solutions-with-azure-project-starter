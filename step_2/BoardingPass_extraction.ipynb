{
 "cells": [
  {
   "cell_type": "code",
   "execution_count": 136,
   "id": "fb801514-c643-47b6-93ce-397926f4804b",
   "metadata": {},
   "outputs": [],
   "source": [
    "import os\n",
    "import io\n",
    "from azure.core.exceptions import ResourceNotFoundError\n",
    "from azure.ai.formrecognizer import FormRecognizerClient\n",
    "from azure.ai.formrecognizer import FormTrainingClient\n",
    "from azure.core.credentials import AzureKeyCredential\n",
    "from azure.keyvault.secrets import SecretClient\n",
    "from azure.identity import DefaultAzureCredential\n",
    "from azure.storage.blob import BlobServiceClient, ContainerClient\n",
    "from waiting import wait\n",
    "import pandas as pd"
   ]
  },
  {
   "cell_type": "markdown",
   "id": "0c88ab80-57f0-40b5-ac68-9e42c4664d65",
   "metadata": {},
   "source": [
    "## Azure authentication\n",
    "Don't forget to `az login` in cmd!"
   ]
  },
  {
   "cell_type": "code",
   "execution_count": 137,
   "id": "6be88183-638d-490a-a53d-940344dfbc1d",
   "metadata": {},
   "outputs": [],
   "source": [
    "keyVaultName = \"cvprojectkeyvault\"\n",
    "KVUri = f\"https://{keyVaultName}.vault.azure.net\"\n",
    "\n",
    "credential = DefaultAzureCredential()\n",
    "client = SecretClient(vault_url=KVUri, credential=credential)"
   ]
  },
  {
   "cell_type": "code",
   "execution_count": 138,
   "id": "d5e8cd7c-b519-4ce7-a600-b65ea28051f7",
   "metadata": {},
   "outputs": [],
   "source": [
    "AZURE_FORM_RECOGNIZER_ENDPOINT = \"https://cvprojectformrecognizer.cognitiveservices.azure.com/\"\n",
    "secretName = \"formrecognizerkey1\"\n",
    "retrieved_secret = client.get_secret(secretName)\n",
    "\n",
    "endpoint = AZURE_FORM_RECOGNIZER_ENDPOINT\n",
    "key = retrieved_secret.value\n",
    "form_training_client = FormTrainingClient(endpoint=endpoint, credential=AzureKeyCredential(key))"
   ]
  },
  {
   "cell_type": "markdown",
   "id": "1eda9cda-8518-4ce3-80a9-e468585352f6",
   "metadata": {},
   "source": [
    "# Get previously trained custom model"
   ]
  },
  {
   "cell_type": "code",
   "execution_count": 139,
   "id": "f48c4361-f0c8-4f32-ac96-6aac88924202",
   "metadata": {},
   "outputs": [],
   "source": [
    "saved_model_list = form_training_client.list_custom_models()"
   ]
  },
  {
   "cell_type": "code",
   "execution_count": 140,
   "id": "00691141-064d-4d37-b250-78529ff66575",
   "metadata": {},
   "outputs": [],
   "source": [
    "for model in saved_model_list:\n",
    "    if model.status == \"invalid\":\n",
    "        form_training_client.delete_model(model.model_id)"
   ]
  },
  {
   "cell_type": "code",
   "execution_count": 141,
   "id": "420d568b-6075-46e4-a70a-ef57d407b698",
   "metadata": {},
   "outputs": [
    {
     "name": "stdout",
     "output_type": "stream",
     "text": [
      "CustomFormModelInfo(model_id=08bc6a71-bf06-45c6-9a0d-f662f9ad44d5, status=ready, training_started_on=2024-05-23 15:51:18+00:00, training_completed_on=2024-05-23 15:51:20+00:00, properties=CustomFormModelProperties(is_composed_model=False), model_name=None)\n",
      "CustomFormModelInfo(model_id=22d27070-d5eb-4c08-b97f-3a9fe0edc6fb, status=ready, training_started_on=2024-05-24 15:07:05+00:00, training_completed_on=2024-05-24 15:07:06+00:00, properties=CustomFormModelProperties(is_composed_model=False), model_name=None)\n",
      "CustomFormModelInfo(model_id=2630d0c6-6194-4ce4-ad23-92bdb4029140, status=ready, training_started_on=2024-05-24 14:54:00+00:00, training_completed_on=2024-05-24 14:54:01+00:00, properties=CustomFormModelProperties(is_composed_model=False), model_name=None)\n",
      "CustomFormModelInfo(model_id=901abd54-b4b0-422c-b75e-68815c55a367, status=ready, training_started_on=2024-05-24 15:08:42+00:00, training_completed_on=2024-05-24 15:08:44+00:00, properties=CustomFormModelProperties(is_composed_model=False), model_name=None)\n",
      "CustomFormModelInfo(model_id=ddae42d8-830e-4b06-9b64-bcd0fde83cb5, status=ready, training_started_on=2024-05-24 15:19:33+00:00, training_completed_on=2024-05-24 15:19:35+00:00, properties=CustomFormModelProperties(is_composed_model=False), model_name=None)\n",
      "CustomFormModelInfo(model_id=e26bcc48-012d-4467-b554-7f2d4528fa56, status=ready, training_started_on=2024-05-24 15:01:35+00:00, training_completed_on=2024-05-24 15:01:36+00:00, properties=CustomFormModelProperties(is_composed_model=False), model_name=None)\n"
     ]
    }
   ],
   "source": [
    "saved_model_list = form_training_client.list_custom_models()\n",
    "my_model_ids = []\n",
    "for model in saved_model_list:\n",
    "    my_model_ids.append(model.model_id)\n",
    "    print(model)"
   ]
  },
  {
   "cell_type": "code",
   "execution_count": 142,
   "id": "4677774a-f06a-416b-bb87-35467bb0d74b",
   "metadata": {},
   "outputs": [
    {
     "name": "stdout",
     "output_type": "stream",
     "text": [
      "ddae42d8-830e-4b06-9b64-bcd0fde83cb5\n"
     ]
    }
   ],
   "source": [
    "#labeled_custom_model_id = my_model_ids[-1]\n",
    "labeled_custom_model_id = 'ddae42d8-830e-4b06-9b64-bcd0fde83cb5'\n",
    "print(labeled_custom_model_id)"
   ]
  },
  {
   "cell_type": "code",
   "execution_count": 143,
   "id": "080f5e94-0740-4570-9687-5f5b9d338e9f",
   "metadata": {},
   "outputs": [],
   "source": [
    "labeled_custom_model = form_training_client.get_custom_model(labeled_custom_model_id)"
   ]
  },
  {
   "cell_type": "code",
   "execution_count": 144,
   "id": "012d5eb5-8ed0-485b-a16a-fc06033cf48f",
   "metadata": {},
   "outputs": [
    {
     "data": {
      "text/plain": [
       "'ready'"
      ]
     },
     "execution_count": 144,
     "metadata": {},
     "output_type": "execute_result"
    }
   ],
   "source": [
    "labeled_custom_model.status"
   ]
  },
  {
   "cell_type": "code",
   "execution_count": 145,
   "id": "bce7d2bd-58b3-4221-9705-737e485438ee",
   "metadata": {},
   "outputs": [],
   "source": [
    "form_recognizer_client = form_training_client.get_form_recognizer_client()"
   ]
  },
  {
   "cell_type": "markdown",
   "id": "84a62706-c2e4-4bd7-9946-aa0d12ff9fbe",
   "metadata": {},
   "source": [
    "# Read boarding passes from Blob storage"
   ]
  },
  {
   "cell_type": "code",
   "execution_count": 146,
   "id": "a126eda3-115e-48d8-8adf-e129939e7014",
   "metadata": {},
   "outputs": [],
   "source": [
    "account_url = \"https://computervisionproject.blob.core.windows.net\"\n",
    "default_credential = DefaultAzureCredential()\n",
    "\n",
    "# Create the BlobServiceClient object\n",
    "blob_service_client = BlobServiceClient(account_url, credential=default_credential)\n",
    "kiosk_container_client = ContainerClient(account_url, credential=default_credential, container_name=\"kiosk\")"
   ]
  },
  {
   "cell_type": "code",
   "execution_count": 147,
   "id": "b342008b-ba29-4775-ab7b-e60b304ba954",
   "metadata": {},
   "outputs": [
    {
     "name": "stdout",
     "output_type": "stream",
     "text": [
      "boarding_passes/boarding-avkash.pdf\n",
      "boarding_passes/boarding-james-webb.pdf\n",
      "boarding_passes/boarding-james.pdf\n",
      "boarding_passes/boarding-libby.pdf\n",
      "boarding_passes/boarding-radha-s-kumar.pdf\n",
      "boarding_passes/boarding-sameer.pdf\n",
      "boarding_passes/boarding_pass_johannes.pdf\n"
     ]
    }
   ],
   "source": [
    "files_to_process = []\n",
    "for file in kiosk_container_client.walk_blobs('boarding_passes/', delimiter='/'):\n",
    "    print(file.name)\n",
    "    files_to_process.append(file)"
   ]
  },
  {
   "cell_type": "markdown",
   "id": "8074ab7a-35f9-4569-b4c2-2a035a97284b",
   "metadata": {},
   "source": [
    "# Recognize information from boarding passes using custom model"
   ]
  },
  {
   "cell_type": "code",
   "execution_count": 148,
   "id": "843b0ea9-3969-4eef-a0d2-8f6df6c96793",
   "metadata": {},
   "outputs": [],
   "source": [
    "def is_model_ready(action):\n",
    "    if action.status() == 'succeeded':\n",
    "        return True\n",
    "    return False"
   ]
  },
  {
   "cell_type": "code",
   "execution_count": 149,
   "id": "5c6b350a-28da-450f-9e65-a0bcb8c43ed7",
   "metadata": {},
   "outputs": [
    {
     "name": "stdout",
     "output_type": "stream",
     "text": [
      "Custom Form recognition done: boarding_passes/boarding-avkash.pdf\n",
      "Custom Form recognition done: boarding_passes/boarding-james-webb.pdf\n",
      "Custom Form recognition done: boarding_passes/boarding-james.pdf\n",
      "Custom Form recognition done: boarding_passes/boarding-libby.pdf\n",
      "Custom Form recognition done: boarding_passes/boarding-radha-s-kumar.pdf\n",
      "Custom Form recognition done: boarding_passes/boarding-sameer.pdf\n",
      "Custom Form recognition done: boarding_passes/boarding_pass_johannes.pdf\n"
     ]
    }
   ],
   "source": [
    "results = []\n",
    "\n",
    "for file in files_to_process:\n",
    "    blob_client = blob_service_client.get_blob_client(container=\"kiosk\", blob=file.name)\n",
    "    stream = io.BytesIO()\n",
    "    blob_client.download_blob().readinto(stream)\n",
    "    pdf = stream.getvalue()\n",
    "    recognize_action = form_recognizer_client.begin_recognize_custom_forms(model_id=labeled_custom_model_id, form=pdf)\n",
    "    wait(lambda: is_model_ready(recognize_action), timeout_seconds=120, waiting_for=\"Custom Form Recognition: \"+file.name)\n",
    "    print(\"Custom Form recognition done: \"+file.name)\n",
    "    results.append({\"file\": file.name, \"model_result\": recognize_action.result()})"
   ]
  },
  {
   "cell_type": "markdown",
   "id": "3b20cce5-a908-4eef-8cef-e4ae6a08a8a2",
   "metadata": {},
   "source": [
    "# Format results and write to Blob Storage"
   ]
  },
  {
   "cell_type": "code",
   "execution_count": 150,
   "id": "ddbb42e4-91e1-4065-af4c-3c610cfe9b23",
   "metadata": {},
   "outputs": [],
   "source": [
    "def model_result_to_dict(mr):\n",
    "    res_dict = {}\n",
    "    for recognized_content in mr:\n",
    "        for name, field in recognized_content.fields.items():\n",
    "            res_dict[name] = field.value\n",
    "    return res_dict"
   ]
  },
  {
   "cell_type": "code",
   "execution_count": 151,
   "id": "de952422-6b2e-4b08-8c63-b55fb3f9f1d7",
   "metadata": {},
   "outputs": [
    {
     "name": "stdout",
     "output_type": "stream",
     "text": [
      "boarding_passes/boarding-avkash.pdf\n",
      "boarding_passes/boarding-james-webb.pdf\n",
      "boarding_passes/boarding-james.pdf\n",
      "boarding_passes/boarding-libby.pdf\n",
      "boarding_passes/boarding-radha-s-kumar.pdf\n",
      "boarding_passes/boarding-sameer.pdf\n",
      "boarding_passes/boarding_pass_johannes.pdf\n"
     ]
    }
   ],
   "source": [
    "for r in results:\n",
    "    print(r['file'])\n",
    "    r.update(model_result_to_dict(r['model_result']))\n",
    "    del r['model_result']"
   ]
  },
  {
   "cell_type": "code",
   "execution_count": 152,
   "id": "78b7350e-1bd6-41df-93b3-18d74f3cf0a1",
   "metadata": {},
   "outputs": [
    {
     "data": {
      "text/plain": [
       "[{'file': 'boarding_passes/boarding-avkash.pdf',\n",
       "  'Seat': '20A',\n",
       "  'Gate 2': 'G1',\n",
       "  'Boarding Time 2': '10:00 AM PST',\n",
       "  'Seat 2': '20A',\n",
       "  'Gate': 'G1',\n",
       "  'Passenger Name 2': 'Avkash Chauhan',\n",
       "  'Boarding Time': '10:00 AM PST',\n",
       "  'Date 2': 'April 20, 2022',\n",
       "  'Passenger Name': 'Avkash Chauhan',\n",
       "  'To 2': 'Chicago',\n",
       "  'Baggage': 'NO',\n",
       "  'Carrier': 'UA',\n",
       "  'Flight No.': '234',\n",
       "  'From 2': 'San Francisco',\n",
       "  'To': 'Chicago',\n",
       "  'Date': 'April 20, 2022',\n",
       "  'Class': 'E',\n",
       "  'From': 'San Francisco',\n",
       "  'Ticket No.': 'ETK-34236751E'},\n",
       " {'file': 'boarding_passes/boarding-james-webb.pdf',\n",
       "  'Baggage': 'YES',\n",
       "  'Seat': '1A',\n",
       "  'To 2': 'Chicago',\n",
       "  'Passenger Name 2': 'James Webb',\n",
       "  'Seat 2': '1A',\n",
       "  'From': 'San Francisco',\n",
       "  'Flight No.': '234',\n",
       "  'Gate': 'G1',\n",
       "  'Gate 2': 'G1',\n",
       "  'From 2': 'San Francisco',\n",
       "  'Carrier': 'UA',\n",
       "  'To': 'Chicago',\n",
       "  'Date': 'April 20, 2022',\n",
       "  'Ticket No.': 'ETK-34236748B',\n",
       "  'Passenger Name': 'James Webb',\n",
       "  'Boarding Time 2': '10:00 AM PST',\n",
       "  'Boarding Time': '10:00 AM PST',\n",
       "  'Class': 'B',\n",
       "  'Date 2': 'April 20, 2022'},\n",
       " {'file': 'boarding_passes/boarding-james.pdf',\n",
       "  'Seat 2': '25B',\n",
       "  'Baggage': 'YES',\n",
       "  'Seat': '25B',\n",
       "  'Date': 'April 20, 2022',\n",
       "  'To 2': 'Chicago',\n",
       "  'Boarding Time': '10:00 AM PST',\n",
       "  'Ticket No.': 'ETK-34236750E',\n",
       "  'From': 'San Francisco',\n",
       "  'Flight No.': '234',\n",
       "  'To': 'Chicago',\n",
       "  'Boarding Time 2': '10:00 AM PST',\n",
       "  'Gate': 'G1',\n",
       "  'Carrier': 'UA',\n",
       "  'Class': 'E',\n",
       "  'From 2': 'San Francisco',\n",
       "  'Date 2': 'April 20, 2022',\n",
       "  'Gate 2': 'G1',\n",
       "  'Passenger Name 2': 'James Jackson',\n",
       "  'Passenger Name': 'James Jackson'},\n",
       " {'file': 'boarding_passes/boarding-libby.pdf',\n",
       "  'Seat 2': '3D',\n",
       "  'Baggage': 'YES',\n",
       "  'Seat': '3D',\n",
       "  'Date': 'April 20, 2022',\n",
       "  'To 2': 'Chicago',\n",
       "  'Boarding Time': '10:00 AM PST',\n",
       "  'Ticket No.': 'ETK-34236749B',\n",
       "  'From': 'San Francisco',\n",
       "  'Flight No.': '234',\n",
       "  'To': 'Chicago',\n",
       "  'Boarding Time 2': '10:00 AM PST',\n",
       "  'Gate': 'G1',\n",
       "  'Carrier': 'UA',\n",
       "  'Class': 'B',\n",
       "  'From 2': 'San Francisco',\n",
       "  'Date 2': 'April 20, 2022',\n",
       "  'Gate 2': 'G1',\n",
       "  'Passenger Name 2': 'Libby Herold',\n",
       "  'Passenger Name': 'Libby Herold'},\n",
       " {'file': 'boarding_passes/boarding-radha-s-kumar.pdf',\n",
       "  'Seat 2': '34B',\n",
       "  'Baggage': 'YES',\n",
       "  'Seat': '34B',\n",
       "  'Date': 'April 20, 2022',\n",
       "  'To 2': 'Chicago',\n",
       "  'Boarding Time': '10:00 AM PST',\n",
       "  'Ticket No.': 'ETK-34236747E',\n",
       "  'From': 'San Francisco',\n",
       "  'Flight No.': '234',\n",
       "  'To': 'Chicago',\n",
       "  'Boarding Time 2': '10:00 AM PST',\n",
       "  'Gate': 'G1',\n",
       "  'Carrier': 'UA',\n",
       "  'Class': 'E',\n",
       "  'From 2': 'San Francisco',\n",
       "  'Date 2': 'April 20, 2022',\n",
       "  'Gate 2': 'G1',\n",
       "  'Passenger Name 2': 'Radha S Kumar',\n",
       "  'Passenger Name': 'Radha S Kumar'},\n",
       " {'file': 'boarding_passes/boarding-sameer.pdf',\n",
       "  'Boarding Time': '10:00 AM PST',\n",
       "  'From': 'San Francisco',\n",
       "  'To 2': 'Chicago',\n",
       "  'Gate 2': 'G1',\n",
       "  'Carrier': 'UA',\n",
       "  'Ticket No.': 'ETK-34236746E',\n",
       "  'To': 'Chicago',\n",
       "  'Seat': '34A',\n",
       "  'Flight No.': '234',\n",
       "  'Passenger Name': 'Sameer Kumar',\n",
       "  'Passenger Name 2': 'Sameer Kumar',\n",
       "  'Seat 2': '34A',\n",
       "  'From 2': 'San Francisco',\n",
       "  'Date 2': 'April 20, 2022',\n",
       "  'Gate': 'G1',\n",
       "  'Class': 'E',\n",
       "  'Baggage': 'YES',\n",
       "  'Boarding Time 2': '10:00 AM PST',\n",
       "  'Date': 'April 20, 2022'},\n",
       " {'file': 'boarding_passes/boarding_pass_johannes.pdf',\n",
       "  'Date 2': 'April 20, 2022',\n",
       "  'Flight No.': '234',\n",
       "  'Gate 2': 'G1',\n",
       "  'Ticket No.': 'ETK-737268572620C',\n",
       "  'Class': 'E',\n",
       "  'To': 'Chicago',\n",
       "  'Gate': 'G1',\n",
       "  'Boarding Time 2': '10:00 AM PST',\n",
       "  'Passenger Name 2': 'Johannes Czylwik',\n",
       "  'Passenger Name': 'Johannes Czylwik',\n",
       "  'Carrier': 'UA',\n",
       "  'Date': 'April 20, 2022',\n",
       "  'From': 'San Francisco',\n",
       "  'Seat 2': '16F',\n",
       "  'Seat': '16F',\n",
       "  'Boarding Time': '10:00 AM PST',\n",
       "  'To 2': 'Chicago',\n",
       "  'Baggage': 'NO',\n",
       "  'From 2': 'San Francisco'}]"
      ]
     },
     "execution_count": 152,
     "metadata": {},
     "output_type": "execute_result"
    }
   ],
   "source": [
    "results"
   ]
  },
  {
   "cell_type": "code",
   "execution_count": 153,
   "id": "e4901150-fe02-4298-805a-f0cf48f84416",
   "metadata": {},
   "outputs": [
    {
     "data": {
      "text/html": [
       "<div>\n",
       "<style scoped>\n",
       "    .dataframe tbody tr th:only-of-type {\n",
       "        vertical-align: middle;\n",
       "    }\n",
       "\n",
       "    .dataframe tbody tr th {\n",
       "        vertical-align: top;\n",
       "    }\n",
       "\n",
       "    .dataframe thead th {\n",
       "        text-align: right;\n",
       "    }\n",
       "</style>\n",
       "<table border=\"1\" class=\"dataframe\">\n",
       "  <thead>\n",
       "    <tr style=\"text-align: right;\">\n",
       "      <th></th>\n",
       "      <th>file</th>\n",
       "      <th>Seat</th>\n",
       "      <th>Gate 2</th>\n",
       "      <th>Boarding Time 2</th>\n",
       "      <th>Seat 2</th>\n",
       "      <th>Gate</th>\n",
       "      <th>Passenger Name 2</th>\n",
       "      <th>Boarding Time</th>\n",
       "      <th>Date 2</th>\n",
       "      <th>Passenger Name</th>\n",
       "      <th>To 2</th>\n",
       "      <th>Baggage</th>\n",
       "      <th>Carrier</th>\n",
       "      <th>Flight No.</th>\n",
       "      <th>From 2</th>\n",
       "      <th>To</th>\n",
       "      <th>Date</th>\n",
       "      <th>Class</th>\n",
       "      <th>From</th>\n",
       "      <th>Ticket No.</th>\n",
       "    </tr>\n",
       "  </thead>\n",
       "  <tbody>\n",
       "    <tr>\n",
       "      <th>0</th>\n",
       "      <td>boarding_passes/boarding-avkash.pdf</td>\n",
       "      <td>20A</td>\n",
       "      <td>G1</td>\n",
       "      <td>10:00 AM PST</td>\n",
       "      <td>20A</td>\n",
       "      <td>G1</td>\n",
       "      <td>Avkash Chauhan</td>\n",
       "      <td>10:00 AM PST</td>\n",
       "      <td>April 20, 2022</td>\n",
       "      <td>Avkash Chauhan</td>\n",
       "      <td>Chicago</td>\n",
       "      <td>NO</td>\n",
       "      <td>UA</td>\n",
       "      <td>234</td>\n",
       "      <td>San Francisco</td>\n",
       "      <td>Chicago</td>\n",
       "      <td>April 20, 2022</td>\n",
       "      <td>E</td>\n",
       "      <td>San Francisco</td>\n",
       "      <td>ETK-34236751E</td>\n",
       "    </tr>\n",
       "    <tr>\n",
       "      <th>1</th>\n",
       "      <td>boarding_passes/boarding-james-webb.pdf</td>\n",
       "      <td>1A</td>\n",
       "      <td>G1</td>\n",
       "      <td>10:00 AM PST</td>\n",
       "      <td>1A</td>\n",
       "      <td>G1</td>\n",
       "      <td>James Webb</td>\n",
       "      <td>10:00 AM PST</td>\n",
       "      <td>April 20, 2022</td>\n",
       "      <td>James Webb</td>\n",
       "      <td>Chicago</td>\n",
       "      <td>YES</td>\n",
       "      <td>UA</td>\n",
       "      <td>234</td>\n",
       "      <td>San Francisco</td>\n",
       "      <td>Chicago</td>\n",
       "      <td>April 20, 2022</td>\n",
       "      <td>B</td>\n",
       "      <td>San Francisco</td>\n",
       "      <td>ETK-34236748B</td>\n",
       "    </tr>\n",
       "    <tr>\n",
       "      <th>2</th>\n",
       "      <td>boarding_passes/boarding-james.pdf</td>\n",
       "      <td>25B</td>\n",
       "      <td>G1</td>\n",
       "      <td>10:00 AM PST</td>\n",
       "      <td>25B</td>\n",
       "      <td>G1</td>\n",
       "      <td>James Jackson</td>\n",
       "      <td>10:00 AM PST</td>\n",
       "      <td>April 20, 2022</td>\n",
       "      <td>James Jackson</td>\n",
       "      <td>Chicago</td>\n",
       "      <td>YES</td>\n",
       "      <td>UA</td>\n",
       "      <td>234</td>\n",
       "      <td>San Francisco</td>\n",
       "      <td>Chicago</td>\n",
       "      <td>April 20, 2022</td>\n",
       "      <td>E</td>\n",
       "      <td>San Francisco</td>\n",
       "      <td>ETK-34236750E</td>\n",
       "    </tr>\n",
       "    <tr>\n",
       "      <th>3</th>\n",
       "      <td>boarding_passes/boarding-libby.pdf</td>\n",
       "      <td>3D</td>\n",
       "      <td>G1</td>\n",
       "      <td>10:00 AM PST</td>\n",
       "      <td>3D</td>\n",
       "      <td>G1</td>\n",
       "      <td>Libby Herold</td>\n",
       "      <td>10:00 AM PST</td>\n",
       "      <td>April 20, 2022</td>\n",
       "      <td>Libby Herold</td>\n",
       "      <td>Chicago</td>\n",
       "      <td>YES</td>\n",
       "      <td>UA</td>\n",
       "      <td>234</td>\n",
       "      <td>San Francisco</td>\n",
       "      <td>Chicago</td>\n",
       "      <td>April 20, 2022</td>\n",
       "      <td>B</td>\n",
       "      <td>San Francisco</td>\n",
       "      <td>ETK-34236749B</td>\n",
       "    </tr>\n",
       "    <tr>\n",
       "      <th>4</th>\n",
       "      <td>boarding_passes/boarding-radha-s-kumar.pdf</td>\n",
       "      <td>34B</td>\n",
       "      <td>G1</td>\n",
       "      <td>10:00 AM PST</td>\n",
       "      <td>34B</td>\n",
       "      <td>G1</td>\n",
       "      <td>Radha S Kumar</td>\n",
       "      <td>10:00 AM PST</td>\n",
       "      <td>April 20, 2022</td>\n",
       "      <td>Radha S Kumar</td>\n",
       "      <td>Chicago</td>\n",
       "      <td>YES</td>\n",
       "      <td>UA</td>\n",
       "      <td>234</td>\n",
       "      <td>San Francisco</td>\n",
       "      <td>Chicago</td>\n",
       "      <td>April 20, 2022</td>\n",
       "      <td>E</td>\n",
       "      <td>San Francisco</td>\n",
       "      <td>ETK-34236747E</td>\n",
       "    </tr>\n",
       "    <tr>\n",
       "      <th>5</th>\n",
       "      <td>boarding_passes/boarding-sameer.pdf</td>\n",
       "      <td>34A</td>\n",
       "      <td>G1</td>\n",
       "      <td>10:00 AM PST</td>\n",
       "      <td>34A</td>\n",
       "      <td>G1</td>\n",
       "      <td>Sameer Kumar</td>\n",
       "      <td>10:00 AM PST</td>\n",
       "      <td>April 20, 2022</td>\n",
       "      <td>Sameer Kumar</td>\n",
       "      <td>Chicago</td>\n",
       "      <td>YES</td>\n",
       "      <td>UA</td>\n",
       "      <td>234</td>\n",
       "      <td>San Francisco</td>\n",
       "      <td>Chicago</td>\n",
       "      <td>April 20, 2022</td>\n",
       "      <td>E</td>\n",
       "      <td>San Francisco</td>\n",
       "      <td>ETK-34236746E</td>\n",
       "    </tr>\n",
       "    <tr>\n",
       "      <th>6</th>\n",
       "      <td>boarding_passes/boarding_pass_johannes.pdf</td>\n",
       "      <td>16F</td>\n",
       "      <td>G1</td>\n",
       "      <td>10:00 AM PST</td>\n",
       "      <td>16F</td>\n",
       "      <td>G1</td>\n",
       "      <td>Johannes Czylwik</td>\n",
       "      <td>10:00 AM PST</td>\n",
       "      <td>April 20, 2022</td>\n",
       "      <td>Johannes Czylwik</td>\n",
       "      <td>Chicago</td>\n",
       "      <td>NO</td>\n",
       "      <td>UA</td>\n",
       "      <td>234</td>\n",
       "      <td>San Francisco</td>\n",
       "      <td>Chicago</td>\n",
       "      <td>April 20, 2022</td>\n",
       "      <td>E</td>\n",
       "      <td>San Francisco</td>\n",
       "      <td>ETK-737268572620C</td>\n",
       "    </tr>\n",
       "  </tbody>\n",
       "</table>\n",
       "</div>"
      ],
      "text/plain": [
       "                                         file Seat Gate 2 Boarding Time 2  \\\n",
       "0         boarding_passes/boarding-avkash.pdf  20A     G1    10:00 AM PST   \n",
       "1     boarding_passes/boarding-james-webb.pdf   1A     G1    10:00 AM PST   \n",
       "2          boarding_passes/boarding-james.pdf  25B     G1    10:00 AM PST   \n",
       "3          boarding_passes/boarding-libby.pdf   3D     G1    10:00 AM PST   \n",
       "4  boarding_passes/boarding-radha-s-kumar.pdf  34B     G1    10:00 AM PST   \n",
       "5         boarding_passes/boarding-sameer.pdf  34A     G1    10:00 AM PST   \n",
       "6  boarding_passes/boarding_pass_johannes.pdf  16F     G1    10:00 AM PST   \n",
       "\n",
       "  Seat 2 Gate  Passenger Name 2 Boarding Time          Date 2  \\\n",
       "0    20A   G1    Avkash Chauhan  10:00 AM PST  April 20, 2022   \n",
       "1     1A   G1        James Webb  10:00 AM PST  April 20, 2022   \n",
       "2    25B   G1     James Jackson  10:00 AM PST  April 20, 2022   \n",
       "3     3D   G1      Libby Herold  10:00 AM PST  April 20, 2022   \n",
       "4    34B   G1     Radha S Kumar  10:00 AM PST  April 20, 2022   \n",
       "5    34A   G1      Sameer Kumar  10:00 AM PST  April 20, 2022   \n",
       "6    16F   G1  Johannes Czylwik  10:00 AM PST  April 20, 2022   \n",
       "\n",
       "     Passenger Name     To 2 Baggage Carrier Flight No.         From 2  \\\n",
       "0    Avkash Chauhan  Chicago      NO      UA        234  San Francisco   \n",
       "1        James Webb  Chicago     YES      UA        234  San Francisco   \n",
       "2     James Jackson  Chicago     YES      UA        234  San Francisco   \n",
       "3      Libby Herold  Chicago     YES      UA        234  San Francisco   \n",
       "4     Radha S Kumar  Chicago     YES      UA        234  San Francisco   \n",
       "5      Sameer Kumar  Chicago     YES      UA        234  San Francisco   \n",
       "6  Johannes Czylwik  Chicago      NO      UA        234  San Francisco   \n",
       "\n",
       "        To            Date Class           From         Ticket No.  \n",
       "0  Chicago  April 20, 2022     E  San Francisco      ETK-34236751E  \n",
       "1  Chicago  April 20, 2022     B  San Francisco      ETK-34236748B  \n",
       "2  Chicago  April 20, 2022     E  San Francisco      ETK-34236750E  \n",
       "3  Chicago  April 20, 2022     B  San Francisco      ETK-34236749B  \n",
       "4  Chicago  April 20, 2022     E  San Francisco      ETK-34236747E  \n",
       "5  Chicago  April 20, 2022     E  San Francisco      ETK-34236746E  \n",
       "6  Chicago  April 20, 2022     E  San Francisco  ETK-737268572620C  "
      ]
     },
     "execution_count": 153,
     "metadata": {},
     "output_type": "execute_result"
    }
   ],
   "source": [
    "df_bp_info = pd.DataFrame(results)\n",
    "df_bp_info"
   ]
  },
  {
   "cell_type": "code",
   "execution_count": 155,
   "id": "db34683a-2114-47ce-9302-8a16ede617ac",
   "metadata": {},
   "outputs": [
    {
     "data": {
      "text/plain": [
       "0"
      ]
     },
     "execution_count": 155,
     "metadata": {},
     "output_type": "execute_result"
    }
   ],
   "source": [
    "parquet_file = io.BytesIO()\n",
    "df_bp_info.to_parquet(parquet_file, engine = 'pyarrow')\n",
    "parquet_file.seek(0)"
   ]
  },
  {
   "cell_type": "code",
   "execution_count": 156,
   "id": "43b8d908-6792-42c0-9475-c6b7143345a0",
   "metadata": {},
   "outputs": [],
   "source": [
    "container = 'kiosk'\n",
    "blob_path = 'extracted_boarding_pass_details/boarding_pass_details.parquet'\n",
    "blob_client = blob_service_client.get_blob_client(container = container, blob = blob_path)"
   ]
  },
  {
   "cell_type": "code",
   "execution_count": 159,
   "id": "d8a7190c-83af-4e40-bfab-28e3f46bbe30",
   "metadata": {},
   "outputs": [
    {
     "data": {
      "text/plain": [
       "{'etag': '\"0x8DC7C067617C8DA\"',\n",
       " 'last_modified': datetime.datetime(2024, 5, 24, 15, 30, 37, tzinfo=datetime.timezone.utc),\n",
       " 'content_md5': bytearray(b'lV\\xec\\xde\\x1cK\\xbcC\\x89\\x80rY\\xff\\xc9\\xd9J'),\n",
       " 'client_request_id': '919dba58-19e2-11ef-a117-8cf8c5f0a202',\n",
       " 'request_id': 'ea852516-e01e-0066-55ef-ad2aeb000000',\n",
       " 'version': '2024-05-04',\n",
       " 'version_id': None,\n",
       " 'date': datetime.datetime(2024, 5, 24, 15, 30, 36, tzinfo=datetime.timezone.utc),\n",
       " 'request_server_encrypted': True,\n",
       " 'encryption_key_sha256': None,\n",
       " 'encryption_scope': None}"
      ]
     },
     "execution_count": 159,
     "metadata": {},
     "output_type": "execute_result"
    }
   ],
   "source": [
    "blob_client.upload_blob(data = parquet_file)"
   ]
  },
  {
   "cell_type": "code",
   "execution_count": null,
   "id": "3648b5c1-d0a4-45c1-b7d9-e5277997232f",
   "metadata": {},
   "outputs": [],
   "source": []
  }
 ],
 "metadata": {
  "kernelspec": {
   "display_name": "Python 3 (ipykernel)",
   "language": "python",
   "name": "python3"
  },
  "language_info": {
   "codemirror_mode": {
    "name": "ipython",
    "version": 3
   },
   "file_extension": ".py",
   "mimetype": "text/x-python",
   "name": "python",
   "nbconvert_exporter": "python",
   "pygments_lexer": "ipython3",
   "version": "3.11.8"
  }
 },
 "nbformat": 4,
 "nbformat_minor": 5
}
