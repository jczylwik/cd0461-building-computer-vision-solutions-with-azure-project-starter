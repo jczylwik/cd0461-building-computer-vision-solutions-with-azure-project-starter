{
 "cells": [
  {
   "cell_type": "code",
   "execution_count": 38,
   "id": "359ab830-31bb-4188-a98f-ae297939c872",
   "metadata": {},
   "outputs": [],
   "source": [
    "import pandas as pd\n",
    "import numpy as np"
   ]
  },
  {
   "cell_type": "code",
   "execution_count": 39,
   "id": "4e330c27-6a2e-4077-8e2f-27d7e4a16aca",
   "metadata": {},
   "outputs": [
    {
     "data": {
      "text/html": [
       "<div>\n",
       "<style scoped>\n",
       "    .dataframe tbody tr th:only-of-type {\n",
       "        vertical-align: middle;\n",
       "    }\n",
       "\n",
       "    .dataframe tbody tr th {\n",
       "        vertical-align: top;\n",
       "    }\n",
       "\n",
       "    .dataframe thead th {\n",
       "        text-align: right;\n",
       "    }\n",
       "</style>\n",
       "<table border=\"1\" class=\"dataframe\">\n",
       "  <thead>\n",
       "    <tr style=\"text-align: right;\">\n",
       "      <th></th>\n",
       "      <th>Passanger Name</th>\n",
       "      <th>Carrier</th>\n",
       "      <th>Flight No.</th>\n",
       "      <th>Class</th>\n",
       "      <th>From</th>\n",
       "      <th>To</th>\n",
       "      <th>Date</th>\n",
       "      <th>Baggage</th>\n",
       "      <th>Seat</th>\n",
       "      <th>Gate</th>\n",
       "      <th>Boarding Time</th>\n",
       "      <th>Ticket No.</th>\n",
       "    </tr>\n",
       "  </thead>\n",
       "  <tbody>\n",
       "    <tr>\n",
       "      <th>0</th>\n",
       "      <td>Sameer Kumar</td>\n",
       "      <td>UA</td>\n",
       "      <td>234</td>\n",
       "      <td>Economy</td>\n",
       "      <td>San Francisco</td>\n",
       "      <td>Chicago</td>\n",
       "      <td>April 20, 2022</td>\n",
       "      <td>YES</td>\n",
       "      <td>34A</td>\n",
       "      <td>G1</td>\n",
       "      <td>10:00 AM PST</td>\n",
       "      <td>34236746</td>\n",
       "    </tr>\n",
       "    <tr>\n",
       "      <th>1</th>\n",
       "      <td>Radha S. Kumar</td>\n",
       "      <td>UA</td>\n",
       "      <td>234</td>\n",
       "      <td>Economy</td>\n",
       "      <td>San Francisco</td>\n",
       "      <td>Chicago</td>\n",
       "      <td>April 20, 2022</td>\n",
       "      <td>YES</td>\n",
       "      <td>34B</td>\n",
       "      <td>G1</td>\n",
       "      <td>10:00 AM PST</td>\n",
       "      <td>34236747</td>\n",
       "    </tr>\n",
       "    <tr>\n",
       "      <th>2</th>\n",
       "      <td>James Webb</td>\n",
       "      <td>UA</td>\n",
       "      <td>234</td>\n",
       "      <td>Business</td>\n",
       "      <td>San Francisco</td>\n",
       "      <td>Chicago</td>\n",
       "      <td>April 20, 2022</td>\n",
       "      <td>No</td>\n",
       "      <td>1A</td>\n",
       "      <td>G1</td>\n",
       "      <td>10:00 AM PST</td>\n",
       "      <td>34236748</td>\n",
       "    </tr>\n",
       "    <tr>\n",
       "      <th>3</th>\n",
       "      <td>Libby Herold</td>\n",
       "      <td>UA</td>\n",
       "      <td>234</td>\n",
       "      <td>Business</td>\n",
       "      <td>San Francisco</td>\n",
       "      <td>Chicago</td>\n",
       "      <td>April 20, 2022</td>\n",
       "      <td>No</td>\n",
       "      <td>3D</td>\n",
       "      <td>G1</td>\n",
       "      <td>10:00 AM PST</td>\n",
       "      <td>34236749</td>\n",
       "    </tr>\n",
       "    <tr>\n",
       "      <th>4</th>\n",
       "      <td>James Jackson</td>\n",
       "      <td>UA</td>\n",
       "      <td>234</td>\n",
       "      <td>Economy</td>\n",
       "      <td>San Francisco</td>\n",
       "      <td>Chicago</td>\n",
       "      <td>April 20, 2022</td>\n",
       "      <td>YES</td>\n",
       "      <td>25B</td>\n",
       "      <td>G1</td>\n",
       "      <td>10:00 AM PST</td>\n",
       "      <td>34236750</td>\n",
       "    </tr>\n",
       "    <tr>\n",
       "      <th>5</th>\n",
       "      <td>Avkash Chauhan</td>\n",
       "      <td>UA</td>\n",
       "      <td>234</td>\n",
       "      <td>Economy</td>\n",
       "      <td>San Francisco</td>\n",
       "      <td>Chicago</td>\n",
       "      <td>April 20, 2022</td>\n",
       "      <td>No</td>\n",
       "      <td>20A</td>\n",
       "      <td>G1</td>\n",
       "      <td>10:00 AM PST</td>\n",
       "      <td>34236751</td>\n",
       "    </tr>\n",
       "  </tbody>\n",
       "</table>\n",
       "</div>"
      ],
      "text/plain": [
       "   Passanger Name Carrier   Flight No.     Class           From       To  \\\n",
       "0    Sameer Kumar       UA         234   Economy  San Francisco  Chicago   \n",
       "1  Radha S. Kumar       UA         234   Economy  San Francisco  Chicago   \n",
       "2      James Webb       UA         234  Business  San Francisco  Chicago   \n",
       "3    Libby Herold       UA         234  Business  San Francisco  Chicago   \n",
       "4   James Jackson       UA         234   Economy  San Francisco  Chicago   \n",
       "5  Avkash Chauhan       UA         234   Economy  San Francisco  Chicago   \n",
       "\n",
       "             Date Baggage Seat Gate Boarding Time  Ticket No.  \n",
       "0  April 20, 2022     YES  34A   G1  10:00 AM PST    34236746  \n",
       "1  April 20, 2022     YES  34B   G1  10:00 AM PST    34236747  \n",
       "2  April 20, 2022      No   1A   G1  10:00 AM PST    34236748  \n",
       "3  April 20, 2022      No   3D   G1  10:00 AM PST    34236749  \n",
       "4  April 20, 2022     YES  25B   G1  10:00 AM PST    34236750  \n",
       "5  April 20, 2022      No  20A   G1  10:00 AM PST    34236751  "
      ]
     },
     "execution_count": 39,
     "metadata": {},
     "output_type": "execute_result"
    }
   ],
   "source": [
    "df = pd.read_csv(\"../starter/flight-manifest-csv/FlightManifest.csv\")\n",
    "df"
   ]
  },
  {
   "cell_type": "code",
   "execution_count": 40,
   "id": "7ccd3909-5e14-4b1f-9d7a-703c70b6aa0b",
   "metadata": {},
   "outputs": [],
   "source": [
    "df[[\"FirstName\", \"LastName\"]] = df['Passanger Name'].str.rsplit(n=1, expand=True)\n",
    "df = df.drop('Passanger Name', axis=1)\n",
    "#df"
   ]
  },
  {
   "cell_type": "code",
   "execution_count": 41,
   "id": "aede279f-ce33-4984-bc50-5a844ddbc849",
   "metadata": {},
   "outputs": [],
   "source": [
    "#df['DateOfBirth'] = np.random.choice(pd.date_range('1940-01-01', '2010-01-01'), 6)\n",
    "df['DateOfBirth'] = ['1990-01-25', '1994-03-05', '1970-12-15', '1996-02-10', '1956-10-12', '1990-01-01']\n",
    "#df['Date of Birth'] = df['Date of Birth'].dt.strftime(\"%B %d, %Y\")"
   ]
  },
  {
   "cell_type": "code",
   "execution_count": 42,
   "id": "e01b5c6e-73a1-45b4-ae2a-b130591d238c",
   "metadata": {},
   "outputs": [],
   "source": [
    "df['Sex'] = ['M', 'F', 'M', 'F', 'M', 'M']\n",
    "#df"
   ]
  },
  {
   "cell_type": "code",
   "execution_count": 43,
   "id": "3ac97f29-5454-4e82-80b4-f847346726c2",
   "metadata": {},
   "outputs": [],
   "source": [
    "df['NameValidation'] = False\n",
    "df['DoBValidation'] = False\n",
    "df['PersonValidation'] = False\n",
    "df['BoardingPassValidation'] = False\n",
    "df['LuggageValidation'] = False\n",
    "#df"
   ]
  },
  {
   "cell_type": "code",
   "execution_count": 44,
   "id": "810338cb-8452-40cf-9ded-271c5ed457ca",
   "metadata": {},
   "outputs": [],
   "source": [
    "# Rename columns (CamelCase)\n",
    "df.rename(columns={'Flight No.':'FlightNo', 'Boarding Time':'BoardingTime', 'Ticket No.':'TicketNo'}, inplace=True)\n",
    "#df"
   ]
  },
  {
   "cell_type": "code",
   "execution_count": 45,
   "id": "9e02ace5-cdb3-4f55-b54e-c8ca51c262b9",
   "metadata": {},
   "outputs": [],
   "source": [
    "# List of new values\n",
    "new = ['UA',234,'Economy','San Francisco','Chicago','April 20, 2022','No','16F','G1','10:00 AM PST',34236752,'Johannes','Czylwik','1989-05-09','M',False, False,False,False,False]\n",
    "# New data as pandas.DataFrame\n",
    "new = pd.DataFrame(columns=df.columns, data=[new])\n",
    "# Overwrite original dataframe\n",
    "df = pd.concat([df, new], axis=0)"
   ]
  },
  {
   "cell_type": "code",
   "execution_count": 46,
   "id": "f0349a84-c61a-40bb-a0e6-b7c8923c32c0",
   "metadata": {},
   "outputs": [
    {
     "ename": "ValueError",
     "evalue": "time data \"2020-04-20\" doesn't match format \"%B %d, %Y\", at position 6. You might want to try:\n    - passing `format` if your strings have a consistent format;\n    - passing `format='ISO8601'` if your strings are all ISO8601 but not necessarily in exactly the same format;\n    - passing `format='mixed'`, and the format will be inferred for each element individually. You might want to use `dayfirst` alongside this.",
     "output_type": "error",
     "traceback": [
      "\u001b[1;31m---------------------------------------------------------------------------\u001b[0m",
      "\u001b[1;31mValueError\u001b[0m                                Traceback (most recent call last)",
      "Cell \u001b[1;32mIn[46], line 2\u001b[0m\n\u001b[0;32m      1\u001b[0m df[\u001b[38;5;124m'\u001b[39m\u001b[38;5;124mDateOfBirth\u001b[39m\u001b[38;5;124m'\u001b[39m] \u001b[38;5;241m=\u001b[39m pd\u001b[38;5;241m.\u001b[39mto_datetime(df[\u001b[38;5;124m'\u001b[39m\u001b[38;5;124mDateOfBirth\u001b[39m\u001b[38;5;124m'\u001b[39m])\n\u001b[1;32m----> 2\u001b[0m df[\u001b[38;5;124m'\u001b[39m\u001b[38;5;124mDate\u001b[39m\u001b[38;5;124m'\u001b[39m] \u001b[38;5;241m=\u001b[39m \u001b[43mpd\u001b[49m\u001b[38;5;241;43m.\u001b[39;49m\u001b[43mto_datetime\u001b[49m\u001b[43m(\u001b[49m\u001b[43mdf\u001b[49m\u001b[43m[\u001b[49m\u001b[38;5;124;43m'\u001b[39;49m\u001b[38;5;124;43mDate\u001b[39;49m\u001b[38;5;124;43m'\u001b[39;49m\u001b[43m]\u001b[49m\u001b[43m)\u001b[49m\n\u001b[0;32m      3\u001b[0m df\n",
      "File \u001b[1;32mC:\\JCZYLWI\\MyPythonProjects\\AI_Engineer_Nanodegree\\venv\\Lib\\site-packages\\pandas\\core\\tools\\datetimes.py:1067\u001b[0m, in \u001b[0;36mto_datetime\u001b[1;34m(arg, errors, dayfirst, yearfirst, utc, format, exact, unit, infer_datetime_format, origin, cache)\u001b[0m\n\u001b[0;32m   1065\u001b[0m         result \u001b[38;5;241m=\u001b[39m arg\u001b[38;5;241m.\u001b[39mmap(cache_array)\n\u001b[0;32m   1066\u001b[0m     \u001b[38;5;28;01melse\u001b[39;00m:\n\u001b[1;32m-> 1067\u001b[0m         values \u001b[38;5;241m=\u001b[39m \u001b[43mconvert_listlike\u001b[49m\u001b[43m(\u001b[49m\u001b[43marg\u001b[49m\u001b[38;5;241;43m.\u001b[39;49m\u001b[43m_values\u001b[49m\u001b[43m,\u001b[49m\u001b[43m \u001b[49m\u001b[38;5;28;43mformat\u001b[39;49m\u001b[43m)\u001b[49m\n\u001b[0;32m   1068\u001b[0m         result \u001b[38;5;241m=\u001b[39m arg\u001b[38;5;241m.\u001b[39m_constructor(values, index\u001b[38;5;241m=\u001b[39marg\u001b[38;5;241m.\u001b[39mindex, name\u001b[38;5;241m=\u001b[39marg\u001b[38;5;241m.\u001b[39mname)\n\u001b[0;32m   1069\u001b[0m \u001b[38;5;28;01melif\u001b[39;00m \u001b[38;5;28misinstance\u001b[39m(arg, (ABCDataFrame, abc\u001b[38;5;241m.\u001b[39mMutableMapping)):\n",
      "File \u001b[1;32mC:\\JCZYLWI\\MyPythonProjects\\AI_Engineer_Nanodegree\\venv\\Lib\\site-packages\\pandas\\core\\tools\\datetimes.py:433\u001b[0m, in \u001b[0;36m_convert_listlike_datetimes\u001b[1;34m(arg, format, name, utc, unit, errors, dayfirst, yearfirst, exact)\u001b[0m\n\u001b[0;32m    431\u001b[0m \u001b[38;5;66;03m# `format` could be inferred, or user didn't ask for mixed-format parsing.\u001b[39;00m\n\u001b[0;32m    432\u001b[0m \u001b[38;5;28;01mif\u001b[39;00m \u001b[38;5;28mformat\u001b[39m \u001b[38;5;129;01mis\u001b[39;00m \u001b[38;5;129;01mnot\u001b[39;00m \u001b[38;5;28;01mNone\u001b[39;00m \u001b[38;5;129;01mand\u001b[39;00m \u001b[38;5;28mformat\u001b[39m \u001b[38;5;241m!=\u001b[39m \u001b[38;5;124m\"\u001b[39m\u001b[38;5;124mmixed\u001b[39m\u001b[38;5;124m\"\u001b[39m:\n\u001b[1;32m--> 433\u001b[0m     \u001b[38;5;28;01mreturn\u001b[39;00m \u001b[43m_array_strptime_with_fallback\u001b[49m\u001b[43m(\u001b[49m\u001b[43marg\u001b[49m\u001b[43m,\u001b[49m\u001b[43m \u001b[49m\u001b[43mname\u001b[49m\u001b[43m,\u001b[49m\u001b[43m \u001b[49m\u001b[43mutc\u001b[49m\u001b[43m,\u001b[49m\u001b[43m \u001b[49m\u001b[38;5;28;43mformat\u001b[39;49m\u001b[43m,\u001b[49m\u001b[43m \u001b[49m\u001b[43mexact\u001b[49m\u001b[43m,\u001b[49m\u001b[43m \u001b[49m\u001b[43merrors\u001b[49m\u001b[43m)\u001b[49m\n\u001b[0;32m    435\u001b[0m result, tz_parsed \u001b[38;5;241m=\u001b[39m objects_to_datetime64(\n\u001b[0;32m    436\u001b[0m     arg,\n\u001b[0;32m    437\u001b[0m     dayfirst\u001b[38;5;241m=\u001b[39mdayfirst,\n\u001b[1;32m   (...)\u001b[0m\n\u001b[0;32m    441\u001b[0m     allow_object\u001b[38;5;241m=\u001b[39m\u001b[38;5;28;01mTrue\u001b[39;00m,\n\u001b[0;32m    442\u001b[0m )\n\u001b[0;32m    444\u001b[0m \u001b[38;5;28;01mif\u001b[39;00m tz_parsed \u001b[38;5;129;01mis\u001b[39;00m \u001b[38;5;129;01mnot\u001b[39;00m \u001b[38;5;28;01mNone\u001b[39;00m:\n\u001b[0;32m    445\u001b[0m     \u001b[38;5;66;03m# We can take a shortcut since the datetime64 numpy array\u001b[39;00m\n\u001b[0;32m    446\u001b[0m     \u001b[38;5;66;03m# is in UTC\u001b[39;00m\n",
      "File \u001b[1;32mC:\\JCZYLWI\\MyPythonProjects\\AI_Engineer_Nanodegree\\venv\\Lib\\site-packages\\pandas\\core\\tools\\datetimes.py:467\u001b[0m, in \u001b[0;36m_array_strptime_with_fallback\u001b[1;34m(arg, name, utc, fmt, exact, errors)\u001b[0m\n\u001b[0;32m    456\u001b[0m \u001b[38;5;28;01mdef\u001b[39;00m \u001b[38;5;21m_array_strptime_with_fallback\u001b[39m(\n\u001b[0;32m    457\u001b[0m     arg,\n\u001b[0;32m    458\u001b[0m     name,\n\u001b[1;32m   (...)\u001b[0m\n\u001b[0;32m    462\u001b[0m     errors: \u001b[38;5;28mstr\u001b[39m,\n\u001b[0;32m    463\u001b[0m ) \u001b[38;5;241m-\u001b[39m\u001b[38;5;241m>\u001b[39m Index:\n\u001b[0;32m    464\u001b[0m \u001b[38;5;250m    \u001b[39m\u001b[38;5;124;03m\"\"\"\u001b[39;00m\n\u001b[0;32m    465\u001b[0m \u001b[38;5;124;03m    Call array_strptime, with fallback behavior depending on 'errors'.\u001b[39;00m\n\u001b[0;32m    466\u001b[0m \u001b[38;5;124;03m    \"\"\"\u001b[39;00m\n\u001b[1;32m--> 467\u001b[0m     result, tz_out \u001b[38;5;241m=\u001b[39m \u001b[43marray_strptime\u001b[49m\u001b[43m(\u001b[49m\u001b[43marg\u001b[49m\u001b[43m,\u001b[49m\u001b[43m \u001b[49m\u001b[43mfmt\u001b[49m\u001b[43m,\u001b[49m\u001b[43m \u001b[49m\u001b[43mexact\u001b[49m\u001b[38;5;241;43m=\u001b[39;49m\u001b[43mexact\u001b[49m\u001b[43m,\u001b[49m\u001b[43m \u001b[49m\u001b[43merrors\u001b[49m\u001b[38;5;241;43m=\u001b[39;49m\u001b[43merrors\u001b[49m\u001b[43m,\u001b[49m\u001b[43m \u001b[49m\u001b[43mutc\u001b[49m\u001b[38;5;241;43m=\u001b[39;49m\u001b[43mutc\u001b[49m\u001b[43m)\u001b[49m\n\u001b[0;32m    468\u001b[0m     \u001b[38;5;28;01mif\u001b[39;00m tz_out \u001b[38;5;129;01mis\u001b[39;00m \u001b[38;5;129;01mnot\u001b[39;00m \u001b[38;5;28;01mNone\u001b[39;00m:\n\u001b[0;32m    469\u001b[0m         unit \u001b[38;5;241m=\u001b[39m np\u001b[38;5;241m.\u001b[39mdatetime_data(result\u001b[38;5;241m.\u001b[39mdtype)[\u001b[38;5;241m0\u001b[39m]\n",
      "File \u001b[1;32mstrptime.pyx:501\u001b[0m, in \u001b[0;36mpandas._libs.tslibs.strptime.array_strptime\u001b[1;34m()\u001b[0m\n",
      "File \u001b[1;32mstrptime.pyx:451\u001b[0m, in \u001b[0;36mpandas._libs.tslibs.strptime.array_strptime\u001b[1;34m()\u001b[0m\n",
      "File \u001b[1;32mstrptime.pyx:583\u001b[0m, in \u001b[0;36mpandas._libs.tslibs.strptime._parse_with_format\u001b[1;34m()\u001b[0m\n",
      "\u001b[1;31mValueError\u001b[0m: time data \"2020-04-20\" doesn't match format \"%B %d, %Y\", at position 6. You might want to try:\n    - passing `format` if your strings have a consistent format;\n    - passing `format='ISO8601'` if your strings are all ISO8601 but not necessarily in exactly the same format;\n    - passing `format='mixed'`, and the format will be inferred for each element individually. You might want to use `dayfirst` alongside this."
     ]
    }
   ],
   "source": [
    "df['DateOfBirth'] = pd.to_datetime(df['DateOfBirth'])\n",
    "df['Date'] = pd.to_datetime(df['Date'])\n",
    "df"
   ]
  },
  {
   "cell_type": "code",
   "execution_count": 36,
   "id": "bd16dac2-152a-4217-8b88-79496451d91e",
   "metadata": {
    "jupyter": {
     "source_hidden": true
    }
   },
   "outputs": [],
   "source": [
    "df.to_csv(\"manifest.csv\", sep=',', index=False)"
   ]
  },
  {
   "cell_type": "code",
   "execution_count": 37,
   "id": "7cfb7ada-9ecf-454d-a5c9-e79dcb7f7c69",
   "metadata": {},
   "outputs": [
    {
     "data": {
      "text/plain": [
       "Carrier                   object\n",
       "FlightNo                   int64\n",
       "Class                     object\n",
       "From                      object\n",
       "To                        object\n",
       "Date                      object\n",
       "Baggage                   object\n",
       "Seat                      object\n",
       "Gate                      object\n",
       "BoardingTime              object\n",
       "TicketNo                   int64\n",
       "FirstName                 object\n",
       "LastName                  object\n",
       "DateOfBirth               object\n",
       "Sex                       object\n",
       "NameValidation              bool\n",
       "DoBValidation               bool\n",
       "PersonValidation            bool\n",
       "BoardingPassValidation      bool\n",
       "LuggageValidation           bool\n",
       "dtype: object"
      ]
     },
     "execution_count": 37,
     "metadata": {},
     "output_type": "execute_result"
    }
   ],
   "source": [
    "df.dtypes"
   ]
  },
  {
   "cell_type": "code",
   "execution_count": null,
   "id": "8ce6b83b-901d-4ab0-bc9f-d7a521567085",
   "metadata": {},
   "outputs": [],
   "source": []
  }
 ],
 "metadata": {
  "kernelspec": {
   "display_name": "Python 3 (ipykernel)",
   "language": "python",
   "name": "python3"
  },
  "language_info": {
   "codemirror_mode": {
    "name": "ipython",
    "version": 3
   },
   "file_extension": ".py",
   "mimetype": "text/x-python",
   "name": "python",
   "nbconvert_exporter": "python",
   "pygments_lexer": "ipython3",
   "version": "3.11.8"
  }
 },
 "nbformat": 4,
 "nbformat_minor": 5
}
